{
 "cells": [
  {
   "cell_type": "code",
   "execution_count": 1,
   "id": "f9a2b445",
   "metadata": {},
   "outputs": [],
   "source": [
    "import pandas as pd\n",
    "from sklearn.model_selection import train_test_split"
   ]
  },
  {
   "cell_type": "code",
   "execution_count": 2,
   "id": "8fb284ad",
   "metadata": {},
   "outputs": [],
   "source": [
    "ds = pd.read_csv(\"../data/corrected_BankChurners.csv\")"
   ]
  },
  {
   "cell_type": "code",
   "execution_count": 3,
   "id": "0b4f5f7a",
   "metadata": {},
   "outputs": [],
   "source": [
    "X_columns = [\"Attrition_Flag\",\"Customer_Age\",\"Gender\",\"Dependent_count\",\n",
    "             \"Education_Level\",\"Marital_Status\",\"Income_Category\",\"Card_Category\",\n",
    "             \"Months_on_book\",\"Total_Relationship_Count\",\"Months_Inactive_12_mon\",\n",
    "             \"Contacts_Count_12_mon\",\"Credit_Limit\",\"Total_Revolving_Bal\",\n",
    "             \"Avg_Open_To_Buy\",\"Total_Amt_Chng_Q4_Q1\",\"Total_Trans_Amt\",\n",
    "             \"Total_Trans_Ct\",\"Total_Ct_Chng_Q4_Q1\"]"
   ]
  },
  {
   "cell_type": "code",
   "execution_count": 4,
   "id": "8d451972",
   "metadata": {},
   "outputs": [],
   "source": [
    "X_train, X_test = train_test_split(ds, train_size=0.8, random_state=42)"
   ]
  },
  {
   "cell_type": "code",
   "execution_count": 5,
   "id": "50fa054b",
   "metadata": {},
   "outputs": [
    {
     "data": {
      "text/plain": [
       "(8101, 20)"
      ]
     },
     "execution_count": 5,
     "metadata": {},
     "output_type": "execute_result"
    }
   ],
   "source": [
    "X_train.shape"
   ]
  },
  {
   "cell_type": "code",
   "execution_count": 6,
   "id": "f9ca8d59",
   "metadata": {},
   "outputs": [],
   "source": [
    "X_train.to_csv('../data/train_data.csv', index=False)"
   ]
  },
  {
   "cell_type": "code",
   "execution_count": 7,
   "id": "8872eda7",
   "metadata": {},
   "outputs": [
    {
     "data": {
      "text/plain": [
       "(2026, 20)"
      ]
     },
     "execution_count": 7,
     "metadata": {},
     "output_type": "execute_result"
    }
   ],
   "source": [
    "X_test.shape"
   ]
  },
  {
   "cell_type": "code",
   "execution_count": 8,
   "id": "e0360d43",
   "metadata": {},
   "outputs": [],
   "source": [
    "X_test[X_columns].to_csv('../data/new_data.csv', index=False)"
   ]
  },
  {
   "cell_type": "code",
   "execution_count": 9,
   "id": "304483ac",
   "metadata": {},
   "outputs": [],
   "source": [
    "X_test.to_csv('../data/compare_data.csv', index=False)"
   ]
  },
  {
   "cell_type": "code",
   "execution_count": null,
   "id": "27bdc9dc",
   "metadata": {},
   "outputs": [],
   "source": []
  }
 ],
 "metadata": {
  "kernelspec": {
   "display_name": "Python 3 (ipykernel)",
   "language": "python",
   "name": "python3"
  },
  "language_info": {
   "codemirror_mode": {
    "name": "ipython",
    "version": 3
   },
   "file_extension": ".py",
   "mimetype": "text/x-python",
   "name": "python",
   "nbconvert_exporter": "python",
   "pygments_lexer": "ipython3",
   "version": "3.10.2"
  }
 },
 "nbformat": 4,
 "nbformat_minor": 5
}
