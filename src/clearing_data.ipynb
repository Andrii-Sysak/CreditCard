{
 "cells": [
  {
   "cell_type": "code",
   "execution_count": 1,
   "id": "177e6702",
   "metadata": {},
   "outputs": [
    {
     "name": "stdout",
     "output_type": "stream",
     "text": [
      "Requirement already satisfied: matplotlib in d:\\pythons\\python_312\\lib\\site-packages (from -r ..\\requirements.txt (line 1)) (3.8.3)\n",
      "Requirement already satisfied: numpy in d:\\pythons\\python_312\\lib\\site-packages (from -r ..\\requirements.txt (line 2)) (1.26.4)\n",
      "Requirement already satisfied: pandas in d:\\pythons\\python_312\\lib\\site-packages (from -r ..\\requirements.txt (line 3)) (2.2.1)\n",
      "Requirement already satisfied: scipy in d:\\pythons\\python_312\\lib\\site-packages (from -r ..\\requirements.txt (line 4)) (1.12.0)\n",
      "Requirement already satisfied: seaborn in d:\\pythons\\python_312\\lib\\site-packages (from -r ..\\requirements.txt (line 5)) (0.13.2)\n",
      "Requirement already satisfied: scikit-learn in d:\\pythons\\python_312\\lib\\site-packages (from -r ..\\requirements.txt (line 6)) (1.4.1.post1)\n",
      "Requirement already satisfied: imbalanced-learn in d:\\pythons\\python_312\\lib\\site-packages (from -r ..\\requirements.txt (line 7)) (0.12.0)\n",
      "Requirement already satisfied: category-encoders in d:\\pythons\\python_312\\lib\\site-packages (from -r ..\\requirements.txt (line 8)) (2.6.3)\n",
      "Requirement already satisfied: patsy in d:\\pythons\\python_312\\lib\\site-packages (from -r ..\\requirements.txt (line 9)) (0.5.6)\n",
      "Requirement already satisfied: statsmodels in d:\\pythons\\python_312\\lib\\site-packages (from -r ..\\requirements.txt (line 10)) (0.14.2)\n",
      "Collecting sklearn (from -r ..\\requirements.txt (line 11))\n",
      "  Downloading sklearn-0.0.post12.tar.gz (2.6 kB)\n",
      "  Installing build dependencies: started\n",
      "  Installing build dependencies: finished with status 'done'\n",
      "  Getting requirements to build wheel: started\n",
      "  Getting requirements to build wheel: finished with status 'error'\n"
     ]
    },
    {
     "name": "stderr",
     "output_type": "stream",
     "text": [
      "  error: subprocess-exited-with-error\n",
      "  \n",
      "  Getting requirements to build wheel did not run successfully.\n",
      "  exit code: 1\n",
      "  \n",
      "  [15 lines of output]\n",
      "  The 'sklearn' PyPI package is deprecated, use 'scikit-learn'\n",
      "  rather than 'sklearn' for pip commands.\n",
      "  \n",
      "  Here is how to fix this error in the main use cases:\n",
      "  - use 'pip install scikit-learn' rather than 'pip install sklearn'\n",
      "  - replace 'sklearn' by 'scikit-learn' in your pip requirements files\n",
      "    (requirements.txt, setup.py, setup.cfg, Pipfile, etc ...)\n",
      "  - if the 'sklearn' package is used by one of your dependencies,\n",
      "    it would be great if you take some time to track which package uses\n",
      "    'sklearn' instead of 'scikit-learn' and report it to their issue tracker\n",
      "  - as a last resort, set the environment variable\n",
      "    SKLEARN_ALLOW_DEPRECATED_SKLEARN_PACKAGE_INSTALL=True to avoid this error\n",
      "  \n",
      "  More information is available at\n",
      "  https://github.com/scikit-learn/sklearn-pypi-package\n",
      "  [end of output]\n",
      "  \n",
      "  note: This error originates from a subprocess, and is likely not a problem with pip.\n",
      "error: subprocess-exited-with-error\n",
      "\n",
      "Getting requirements to build wheel did not run successfully.\n",
      "exit code: 1\n",
      "\n",
      "See above for output.\n",
      "\n",
      "note: This error originates from a subprocess, and is likely not a problem with pip.\n"
     ]
    }
   ],
   "source": [
    "!pip install -r \"..\\requirements.txt\""
   ]
  },
  {
   "attachments": {},
   "cell_type": "markdown",
   "id": "b8367743",
   "metadata": {},
   "source": [
    "#### Data Shapes"
   ]
  },
  {
   "cell_type": "code",
   "execution_count": 3,
   "id": "be13f971",
   "metadata": {},
   "outputs": [],
   "source": [
    "import pandas as pd\n",
    "import numpy as np\n",
    "\n",
    "from IPython.display import HTML\n",
    "\n",
    "import seaborn as sns\n",
    "import matplotlib.pyplot as plt\n",
    "\n",
    "import warnings\n",
    "warnings.filterwarnings(\"ignore\")"
   ]
  },
  {
   "cell_type": "code",
   "execution_count": 5,
   "id": "41e48037",
   "metadata": {},
   "outputs": [],
   "source": [
    "df = pd.read_csv(\"../data/FuelConsumption.csv\")"
   ]
  },
  {
   "cell_type": "code",
   "execution_count": 6,
   "id": "33cc0708",
   "metadata": {},
   "outputs": [
    {
     "data": {
      "text/html": [
       "<div>\n",
       "<style scoped>\n",
       "    .dataframe tbody tr th:only-of-type {\n",
       "        vertical-align: middle;\n",
       "    }\n",
       "\n",
       "    .dataframe tbody tr th {\n",
       "        vertical-align: top;\n",
       "    }\n",
       "\n",
       "    .dataframe thead th {\n",
       "        text-align: right;\n",
       "    }\n",
       "</style>\n",
       "<table border=\"1\" class=\"dataframe\">\n",
       "  <thead>\n",
       "    <tr style=\"text-align: right;\">\n",
       "      <th></th>\n",
       "      <th>Year</th>\n",
       "      <th>MAKE</th>\n",
       "      <th>MODEL</th>\n",
       "      <th>VEHICLE CLASS</th>\n",
       "      <th>ENGINE SIZE</th>\n",
       "      <th>CYLINDERS</th>\n",
       "      <th>TRANSMISSION</th>\n",
       "      <th>FUEL</th>\n",
       "      <th>FUEL CONSUMPTION</th>\n",
       "      <th>COEMISSIONS</th>\n",
       "    </tr>\n",
       "  </thead>\n",
       "  <tbody>\n",
       "    <tr>\n",
       "      <th>0</th>\n",
       "      <td>2000</td>\n",
       "      <td>ACURA</td>\n",
       "      <td>1.6EL</td>\n",
       "      <td>COMPACT</td>\n",
       "      <td>1.6</td>\n",
       "      <td>4</td>\n",
       "      <td>A4</td>\n",
       "      <td>X</td>\n",
       "      <td>10.5</td>\n",
       "      <td>216</td>\n",
       "    </tr>\n",
       "    <tr>\n",
       "      <th>1</th>\n",
       "      <td>2000</td>\n",
       "      <td>ACURA</td>\n",
       "      <td>1.6EL</td>\n",
       "      <td>COMPACT</td>\n",
       "      <td>1.6</td>\n",
       "      <td>4</td>\n",
       "      <td>M5</td>\n",
       "      <td>X</td>\n",
       "      <td>9.8</td>\n",
       "      <td>205</td>\n",
       "    </tr>\n",
       "    <tr>\n",
       "      <th>2</th>\n",
       "      <td>2000</td>\n",
       "      <td>ACURA</td>\n",
       "      <td>3.2TL</td>\n",
       "      <td>MID-SIZE</td>\n",
       "      <td>3.2</td>\n",
       "      <td>6</td>\n",
       "      <td>AS5</td>\n",
       "      <td>Z</td>\n",
       "      <td>13.7</td>\n",
       "      <td>265</td>\n",
       "    </tr>\n",
       "    <tr>\n",
       "      <th>3</th>\n",
       "      <td>2000</td>\n",
       "      <td>ACURA</td>\n",
       "      <td>3.5RL</td>\n",
       "      <td>MID-SIZE</td>\n",
       "      <td>3.5</td>\n",
       "      <td>6</td>\n",
       "      <td>A4</td>\n",
       "      <td>Z</td>\n",
       "      <td>15.0</td>\n",
       "      <td>301</td>\n",
       "    </tr>\n",
       "    <tr>\n",
       "      <th>4</th>\n",
       "      <td>2000</td>\n",
       "      <td>ACURA</td>\n",
       "      <td>INTEGRA</td>\n",
       "      <td>SUBCOMPACT</td>\n",
       "      <td>1.8</td>\n",
       "      <td>4</td>\n",
       "      <td>A4</td>\n",
       "      <td>X</td>\n",
       "      <td>11.4</td>\n",
       "      <td>230</td>\n",
       "    </tr>\n",
       "  </tbody>\n",
       "</table>\n",
       "</div>"
      ],
      "text/plain": [
       "   Year   MAKE    MODEL VEHICLE CLASS  ENGINE SIZE  CYLINDERS TRANSMISSION  \\\n",
       "0  2000  ACURA    1.6EL       COMPACT          1.6          4           A4   \n",
       "1  2000  ACURA    1.6EL       COMPACT          1.6          4           M5   \n",
       "2  2000  ACURA    3.2TL      MID-SIZE          3.2          6          AS5   \n",
       "3  2000  ACURA    3.5RL      MID-SIZE          3.5          6           A4   \n",
       "4  2000  ACURA  INTEGRA    SUBCOMPACT          1.8          4           A4   \n",
       "\n",
       "  FUEL  FUEL CONSUMPTION  COEMISSIONS   \n",
       "0    X              10.5           216  \n",
       "1    X               9.8           205  \n",
       "2    Z              13.7           265  \n",
       "3    Z              15.0           301  \n",
       "4    X              11.4           230  "
      ]
     },
     "execution_count": 6,
     "metadata": {},
     "output_type": "execute_result"
    }
   ],
   "source": [
    "df.head()"
   ]
  },
  {
   "cell_type": "code",
   "execution_count": 7,
   "id": "5c8643e2",
   "metadata": {},
   "outputs": [
    {
     "data": {
      "text/plain": [
       "(639, 10)"
      ]
     },
     "execution_count": 7,
     "metadata": {},
     "output_type": "execute_result"
    }
   ],
   "source": [
    "df.shape"
   ]
  },
  {
   "cell_type": "markdown",
   "id": "96ba62a3",
   "metadata": {},
   "source": [
    "#### Types"
   ]
  },
  {
   "cell_type": "markdown",
   "id": "f7c21f38",
   "metadata": {},
   "source": [
    "# Missing data imputation"
   ]
  },
  {
   "cell_type": "code",
   "execution_count": 7,
   "id": "1d9ed189",
   "metadata": {},
   "outputs": [
    {
     "data": {
      "text/plain": [
       "(558811, 16)"
      ]
     },
     "execution_count": 7,
     "metadata": {},
     "output_type": "execute_result"
    }
   ],
   "source": [
    "ds.shape"
   ]
  },
  {
   "cell_type": "code",
   "execution_count": 8,
   "id": "8a140dc1",
   "metadata": {},
   "outputs": [
    {
     "name": "stdout",
     "output_type": "stream",
     "text": [
      "make 10301  |  1.843 %\n",
      "model 10399  |  1.861 %\n",
      "trim 10651  |  1.906 %\n",
      "body 13195  |  2.361 %\n",
      "transmission 65353  |  11.695 %\n",
      "condition 11794  |  2.111 %\n",
      "odometer 94  |  0.017 %\n",
      "color 749  |  0.134 %\n",
      "interior 749  |  0.134 %\n"
     ]
    }
   ],
   "source": [
    "missing = []\n",
    "\n",
    "for x in ds.columns:\n",
    "    if ds[x].isnull().sum() != 0:\n",
    "        print(x, ds[x].isnull().sum(), \" | \",round((ds[x].isnull().sum()/ds.shape[0])*100, 3), \"%\")\n",
    "        missing.append(x)"
   ]
  },
  {
   "cell_type": "code",
   "execution_count": 9,
   "id": "6303cfaa",
   "metadata": {},
   "outputs": [
    {
     "data": {
      "text/plain": [
       "year                34\n",
       "make                96\n",
       "model              973\n",
       "trim              1975\n",
       "body                86\n",
       "transmission         2\n",
       "vin             550296\n",
       "state               38\n",
       "condition           41\n",
       "odometer        172277\n",
       "color               20\n",
       "interior            17\n",
       "seller           14264\n",
       "mmr               1101\n",
       "sellingprice      1887\n",
       "saledate          3745\n",
       "dtype: int64"
      ]
     },
     "execution_count": 9,
     "metadata": {},
     "output_type": "execute_result"
    }
   ],
   "source": [
    "ds.nunique()"
   ]
  },
  {
   "cell_type": "code",
   "execution_count": 10,
   "id": "957e3858",
   "metadata": {},
   "outputs": [
    {
     "data": {
      "text/html": [
       "<div>\n",
       "<style scoped>\n",
       "    .dataframe tbody tr th:only-of-type {\n",
       "        vertical-align: middle;\n",
       "    }\n",
       "\n",
       "    .dataframe tbody tr th {\n",
       "        vertical-align: top;\n",
       "    }\n",
       "\n",
       "    .dataframe thead th {\n",
       "        text-align: right;\n",
       "    }\n",
       "</style>\n",
       "<table border=\"1\" class=\"dataframe\">\n",
       "  <thead>\n",
       "    <tr style=\"text-align: right;\">\n",
       "      <th></th>\n",
       "      <th>year</th>\n",
       "      <th>make</th>\n",
       "      <th>model</th>\n",
       "      <th>trim</th>\n",
       "      <th>body</th>\n",
       "      <th>transmission</th>\n",
       "      <th>vin</th>\n",
       "      <th>state</th>\n",
       "      <th>condition</th>\n",
       "      <th>odometer</th>\n",
       "      <th>color</th>\n",
       "      <th>interior</th>\n",
       "      <th>seller</th>\n",
       "      <th>mmr</th>\n",
       "      <th>sellingprice</th>\n",
       "      <th>saledate</th>\n",
       "    </tr>\n",
       "  </thead>\n",
       "  <tbody>\n",
       "    <tr>\n",
       "      <th>0</th>\n",
       "      <td>2015</td>\n",
       "      <td>Kia</td>\n",
       "      <td>Sorento</td>\n",
       "      <td>LX</td>\n",
       "      <td>SUV</td>\n",
       "      <td>automatic</td>\n",
       "      <td>5xyktca69fg566472</td>\n",
       "      <td>ca</td>\n",
       "      <td>5.0</td>\n",
       "      <td>16639.0</td>\n",
       "      <td>white</td>\n",
       "      <td>black</td>\n",
       "      <td>kia motors america, inc</td>\n",
       "      <td>20500</td>\n",
       "      <td>21500</td>\n",
       "      <td>Tue Dec 16 2014 12:30:00 GMT-0800 (PST)</td>\n",
       "    </tr>\n",
       "    <tr>\n",
       "      <th>1</th>\n",
       "      <td>2015</td>\n",
       "      <td>Kia</td>\n",
       "      <td>Sorento</td>\n",
       "      <td>LX</td>\n",
       "      <td>SUV</td>\n",
       "      <td>automatic</td>\n",
       "      <td>5xyktca69fg561319</td>\n",
       "      <td>ca</td>\n",
       "      <td>5.0</td>\n",
       "      <td>9393.0</td>\n",
       "      <td>white</td>\n",
       "      <td>beige</td>\n",
       "      <td>kia motors america, inc</td>\n",
       "      <td>20800</td>\n",
       "      <td>21500</td>\n",
       "      <td>Tue Dec 16 2014 12:30:00 GMT-0800 (PST)</td>\n",
       "    </tr>\n",
       "    <tr>\n",
       "      <th>2</th>\n",
       "      <td>2014</td>\n",
       "      <td>BMW</td>\n",
       "      <td>3 Series</td>\n",
       "      <td>328i SULEV</td>\n",
       "      <td>Sedan</td>\n",
       "      <td>automatic</td>\n",
       "      <td>wba3c1c51ek116351</td>\n",
       "      <td>ca</td>\n",
       "      <td>4.5</td>\n",
       "      <td>1331.0</td>\n",
       "      <td>gray</td>\n",
       "      <td>black</td>\n",
       "      <td>financial services remarketing (lease)</td>\n",
       "      <td>31900</td>\n",
       "      <td>30000</td>\n",
       "      <td>Thu Jan 15 2015 04:30:00 GMT-0800 (PST)</td>\n",
       "    </tr>\n",
       "    <tr>\n",
       "      <th>3</th>\n",
       "      <td>2015</td>\n",
       "      <td>Volvo</td>\n",
       "      <td>S60</td>\n",
       "      <td>T5</td>\n",
       "      <td>Sedan</td>\n",
       "      <td>automatic</td>\n",
       "      <td>yv1612tb4f1310987</td>\n",
       "      <td>ca</td>\n",
       "      <td>4.1</td>\n",
       "      <td>14282.0</td>\n",
       "      <td>white</td>\n",
       "      <td>black</td>\n",
       "      <td>volvo na rep/world omni</td>\n",
       "      <td>27500</td>\n",
       "      <td>27750</td>\n",
       "      <td>Thu Jan 29 2015 04:30:00 GMT-0800 (PST)</td>\n",
       "    </tr>\n",
       "    <tr>\n",
       "      <th>4</th>\n",
       "      <td>2014</td>\n",
       "      <td>BMW</td>\n",
       "      <td>6 Series Gran Coupe</td>\n",
       "      <td>650i</td>\n",
       "      <td>Sedan</td>\n",
       "      <td>automatic</td>\n",
       "      <td>wba6b2c57ed129731</td>\n",
       "      <td>ca</td>\n",
       "      <td>4.3</td>\n",
       "      <td>2641.0</td>\n",
       "      <td>gray</td>\n",
       "      <td>black</td>\n",
       "      <td>financial services remarketing (lease)</td>\n",
       "      <td>66000</td>\n",
       "      <td>67000</td>\n",
       "      <td>Thu Dec 18 2014 12:30:00 GMT-0800 (PST)</td>\n",
       "    </tr>\n",
       "  </tbody>\n",
       "</table>\n",
       "</div>"
      ],
      "text/plain": [
       "   year   make                model        trim   body transmission  \\\n",
       "0  2015    Kia              Sorento          LX    SUV    automatic   \n",
       "1  2015    Kia              Sorento          LX    SUV    automatic   \n",
       "2  2014    BMW             3 Series  328i SULEV  Sedan    automatic   \n",
       "3  2015  Volvo                  S60          T5  Sedan    automatic   \n",
       "4  2014    BMW  6 Series Gran Coupe        650i  Sedan    automatic   \n",
       "\n",
       "                 vin state  condition  odometer  color interior  \\\n",
       "0  5xyktca69fg566472    ca        5.0   16639.0  white    black   \n",
       "1  5xyktca69fg561319    ca        5.0    9393.0  white    beige   \n",
       "2  wba3c1c51ek116351    ca        4.5    1331.0   gray    black   \n",
       "3  yv1612tb4f1310987    ca        4.1   14282.0  white    black   \n",
       "4  wba6b2c57ed129731    ca        4.3    2641.0   gray    black   \n",
       "\n",
       "                                   seller    mmr  sellingprice  \\\n",
       "0                 kia motors america, inc  20500         21500   \n",
       "1                 kia motors america, inc  20800         21500   \n",
       "2  financial services remarketing (lease)  31900         30000   \n",
       "3                 volvo na rep/world omni  27500         27750   \n",
       "4  financial services remarketing (lease)  66000         67000   \n",
       "\n",
       "                                  saledate  \n",
       "0  Tue Dec 16 2014 12:30:00 GMT-0800 (PST)  \n",
       "1  Tue Dec 16 2014 12:30:00 GMT-0800 (PST)  \n",
       "2  Thu Jan 15 2015 04:30:00 GMT-0800 (PST)  \n",
       "3  Thu Jan 29 2015 04:30:00 GMT-0800 (PST)  \n",
       "4  Thu Dec 18 2014 12:30:00 GMT-0800 (PST)  "
      ]
     },
     "execution_count": 10,
     "metadata": {},
     "output_type": "execute_result"
    }
   ],
   "source": [
    "ds.head(5)"
   ]
  },
  {
   "cell_type": "code",
   "execution_count": 12,
   "id": "ad47193f",
   "metadata": {},
   "outputs": [
    {
     "name": "stdout",
     "output_type": "stream",
     "text": [
      "make 10301  |  1.843 %\n",
      "model 10399  |  1.861 %\n",
      "trim 10651  |  1.906 %\n",
      "body 13195  |  2.361 %\n",
      "transmission 65353  |  11.695 %\n",
      "condition 11794  |  2.111 %\n",
      "odometer 94  |  0.017 %\n",
      "color 749  |  0.134 %\n",
      "interior 749  |  0.134 %\n"
     ]
    }
   ],
   "source": [
    "missing = []\n",
    "\n",
    "for x in ds.columns:\n",
    "    if ds[x].isnull().sum() != 0:\n",
    "        print(x, ds[x].isnull().sum(), \" | \",round((ds[x].isnull().sum()/ds.shape[0])*100, 3), \"%\")\n",
    "        missing.append(x)"
   ]
  },
  {
   "cell_type": "code",
   "execution_count": 11,
   "id": "04af3b31",
   "metadata": {},
   "outputs": [
    {
     "name": "stdout",
     "output_type": "stream",
     "text": [
      "'make', 'model', 'trim' та 'body' є нульовими: 1.843 %\n"
     ]
    }
   ],
   "source": [
    "# Підрахунок кількості рядків, де значення стовпців \"make\", \"model\", \"trim\" та \"body\" є нульовими\n",
    "null_values_count = ((ds['make'].isnull()) & (ds['model'].isnull()) & (ds['trim'].isnull()) & (ds['body'].isnull())).sum()\n",
    "\n",
    "# Виведення результату\n",
    "print(\"'make', 'model', 'trim' та 'body' є нульовими:\",round((null_values_count/ds.shape[0])*100, 3), \"%\") "
   ]
  },
  {
   "cell_type": "code",
   "execution_count": 12,
   "id": "203cf52e",
   "metadata": {},
   "outputs": [
    {
     "name": "stdout",
     "output_type": "stream",
     "text": [
      "        year        make     model trim body transmission                vin  \\\n",
      "1736    2012  mitsubishi    galant  NaN  NaN    automatic  4a32b2ff9ce018740   \n",
      "3395    2007   chevrolet  corvette  NaN  NaN    automatic  1g1yy26u075116869   \n",
      "3499    2007    mercedes    c230wz  NaN  NaN    automatic  wdbrf52h67f904964   \n",
      "3527    2007       mazda      cx-7  NaN  NaN    automatic  jm3er293270109517   \n",
      "3550    2007      toyota    matrix  NaN  NaN    automatic  2t1kr32e47c684222   \n",
      "...      ...         ...       ...  ...  ...          ...                ...   \n",
      "541896  2004       Honda    accord  NaN  NaN    automatic  1hgcm66884a076293   \n",
      "548293  2010   Chevrolet    malibu  NaN  NaN    automatic  1g1zb5eb7af274800   \n",
      "548300  2010   Chevrolet    malibu  NaN  NaN    automatic  1g1zb5eb9af208345   \n",
      "550547  2010   Chevrolet    malibu  NaN  NaN    automatic  1g1zb5eb4af307705   \n",
      "556891  2010   Chevrolet    malibu  NaN  NaN    automatic  1g1zb5eb9af220611   \n",
      "\n",
      "       state  condition  odometer     color interior  \\\n",
      "1736      ca        4.1   65632.0     white     gray   \n",
      "3395      ca        3.6   56923.0     black    black   \n",
      "3499      ca        2.8  141008.0       red    black   \n",
      "3527      ca        2.9   89169.0     white   silver   \n",
      "3550      ca        3.9   73321.0      blue     gray   \n",
      "...      ...        ...       ...       ...      ...   \n",
      "541896    nc        3.5  199124.0  burgundy     gray   \n",
      "548293    mi        3.3   73483.0      gray    brown   \n",
      "548300    in        3.3   59853.0     black     gray   \n",
      "550547    mn        2.8   76282.0     white     gray   \n",
      "556891    mi        3.5   57161.0      gray     gray   \n",
      "\n",
      "                                seller    mmr  sellingprice  \\\n",
      "1736                dtg operations inc   7900          8000   \n",
      "3395           high bid trading co inc  21000         23000   \n",
      "3499    walters auto sales/service inc   5500          5300   \n",
      "3527                      veros credit   6050          4500   \n",
      "3550               exeter finance corp   6450          7300   \n",
      "...                                ...    ...           ...   \n",
      "541896                     bryan honda   2900          3200   \n",
      "548293              santander consumer   7250          7400   \n",
      "548300                  auto trakk llc   7850          7200   \n",
      "550547              santander consumer   7150          7400   \n",
      "556891                mcquiston motors   7950          9500   \n",
      "\n",
      "                                       saledate  \n",
      "1736    Wed Dec 17 2014 12:30:00 GMT-0800 (PST)  \n",
      "3395    Wed Dec 17 2014 12:15:00 GMT-0800 (PST)  \n",
      "3499    Tue Dec 16 2014 12:30:00 GMT-0800 (PST)  \n",
      "3527    Wed Dec 17 2014 12:30:00 GMT-0800 (PST)  \n",
      "3550    Thu Dec 18 2014 12:00:00 GMT-0800 (PST)  \n",
      "...                                         ...  \n",
      "541896  Mon Jun 15 2015 02:00:00 GMT-0700 (PDT)  \n",
      "548293  Thu Jun 18 2015 02:30:00 GMT-0700 (PDT)  \n",
      "548300  Wed Jun 17 2015 06:30:00 GMT-0700 (PDT)  \n",
      "550547  Thu Jun 18 2015 03:45:00 GMT-0700 (PDT)  \n",
      "556891  Thu Jun 18 2015 02:30:00 GMT-0700 (PDT)  \n",
      "\n",
      "[350 rows x 16 columns]\n"
     ]
    }
   ],
   "source": [
    "# Виведення рядків, де значення стовпця \"make\" є нульовими, а значення стовпця \"model\" не є нульовими\n",
    "rows_with_null_make_and_not_null_model = ds[ds['trim'].isnull() & ~ds['model'].isnull()]\n",
    "\n",
    "# Друк результуючого DataFrame\n",
    "print(rows_with_null_make_and_not_null_model)"
   ]
  },
  {
   "cell_type": "code",
   "execution_count": 13,
   "id": "9a9ac8c6",
   "metadata": {},
   "outputs": [
    {
     "name": "stdout",
     "output_type": "stream",
     "text": [
      "Кількість рядків, де значення стовпців 'make', 'model', 'trim' та 'body' є нульовими: 0         False\n",
      "1         False\n",
      "2         False\n",
      "3         False\n",
      "4         False\n",
      "          ...  \n",
      "558806    False\n",
      "558807    False\n",
      "558808    False\n",
      "558809    False\n",
      "558810    False\n",
      "Length: 558811, dtype: bool\n"
     ]
    }
   ],
   "source": [
    "# Підрахунок кількості рядків, де значення стовпців \"make\", \"model\", \"trim\" та \"body\" є нульовими\n",
    "null_values_count = ((~ds['make'].isnull()) & (~ds['model'].isnull()) & (ds['trim'].isnull()))\n",
    "\n",
    "# Виведення результату\n",
    "print(\"Кількість рядків, де значення стовпців 'make', 'model', 'trim' та 'body' є нульовими:\", null_values_count)"
   ]
  },
  {
   "cell_type": "code",
   "execution_count": 14,
   "id": "fc1e8a60",
   "metadata": {},
   "outputs": [
    {
     "name": "stdout",
     "output_type": "stream",
     "text": [
      "['BMW' 'Audi']\n",
      "['750Li' '750i' '750Li xDrive' '2.0 TFSI Premium quattro' '750i xDrive'\n",
      " '650i xDrive']\n",
      "['Sedan' 'sedan']\n",
      "('BMW', '750Li', 'Sedan')\n",
      "('BMW', '750Li', 'sedan')\n",
      "('BMW', '750i', 'Sedan')\n",
      "('BMW', '750i', 'sedan')\n",
      "('BMW', '750Li xDrive', 'Sedan')\n",
      "('BMW', '750Li xDrive', 'sedan')\n",
      "('BMW', '2.0 TFSI Premium quattro', 'Sedan')\n",
      "('BMW', '2.0 TFSI Premium quattro', 'sedan')\n",
      "('BMW', '750i xDrive', 'Sedan')\n",
      "('BMW', '750i xDrive', 'sedan')\n",
      "('BMW', '650i xDrive', 'Sedan')\n",
      "('BMW', '650i xDrive', 'sedan')\n",
      "('Audi', '750Li', 'Sedan')\n",
      "('Audi', '750Li', 'sedan')\n",
      "('Audi', '750i', 'Sedan')\n",
      "('Audi', '750i', 'sedan')\n",
      "('Audi', '750Li xDrive', 'Sedan')\n",
      "('Audi', '750Li xDrive', 'sedan')\n",
      "('Audi', '2.0 TFSI Premium quattro', 'Sedan')\n",
      "('Audi', '2.0 TFSI Premium quattro', 'sedan')\n",
      "('Audi', '750i xDrive', 'Sedan')\n",
      "('Audi', '750i xDrive', 'sedan')\n",
      "('Audi', '650i xDrive', 'Sedan')\n",
      "('Audi', '650i xDrive', 'sedan')\n"
     ]
    }
   ],
   "source": [
    "# Виведення рядків, де значення стовпця \"model\" є нульовим\n",
    "rows = ds[(~ds['make'].isnull()) & (ds['model'].isnull())]\n",
    "\n",
    "unique_makes = rows['make'].unique()\n",
    "unique_trim = rows['trim'].unique()\n",
    "unique_body = rows['body'].unique()\n",
    "\n",
    "print(unique_makes)\n",
    "print(unique_trim)\n",
    "print(unique_body)\n",
    "\n",
    "combinations = list(itertools.product(unique_makes, unique_trim, unique_body))\n",
    "\n",
    "# Виведення унікальних комбінацій, які зустрічаються у вашому датасеті\n",
    "unique_combinations = [comb for comb in combinations if comb in rows[['make', 'model', 'trim']].values]\n",
    "for combination in unique_combinations:\n",
    "    print(combination)"
   ]
  },
  {
   "cell_type": "code",
   "execution_count": 15,
   "id": "d679608e",
   "metadata": {},
   "outputs": [],
   "source": [
    "# Заміна значень рядків, де значення body = \"sedan\", на \"Sedan\"\n",
    "ds.loc[(ds['body'] == 'sedan'), 'body'] = 'Sedan'"
   ]
  },
  {
   "cell_type": "code",
   "execution_count": 16,
   "id": "d47d9af2",
   "metadata": {},
   "outputs": [
    {
     "name": "stdout",
     "output_type": "stream",
     "text": [
      "['BMW' 'Audi']\n",
      "['750Li' '750i' '750Li xDrive' '2.0 TFSI Premium quattro' '750i xDrive'\n",
      " '650i xDrive']\n",
      "['Sedan']\n",
      "('BMW', '750Li', 'Sedan')\n",
      "('BMW', '750i', 'Sedan')\n",
      "('BMW', '750Li xDrive', 'Sedan')\n",
      "('BMW', '2.0 TFSI Premium quattro', 'Sedan')\n",
      "('BMW', '750i xDrive', 'Sedan')\n",
      "('BMW', '650i xDrive', 'Sedan')\n",
      "('Audi', '750Li', 'Sedan')\n",
      "('Audi', '750i', 'Sedan')\n",
      "('Audi', '750Li xDrive', 'Sedan')\n",
      "('Audi', '2.0 TFSI Premium quattro', 'Sedan')\n",
      "('Audi', '750i xDrive', 'Sedan')\n",
      "('Audi', '650i xDrive', 'Sedan')\n"
     ]
    }
   ],
   "source": [
    "# Виведення рядків, де значення стовпців \"make\" і \"model\" є нульовими\n",
    "rows = ds[(~ds['make'].isnull()) & (ds['model'].isnull())]\n",
    "\n",
    "unique_makes = rows['make'].unique()\n",
    "unique_trim = rows['trim'].unique()\n",
    "unique_body = rows['body'].unique()\n",
    "\n",
    "print(unique_makes)\n",
    "print(unique_trim)\n",
    "print(unique_body)\n",
    "\n",
    "combinations = list(itertools.product(unique_makes, unique_trim, unique_body))\n",
    "\n",
    "# Виведення унікальних комбінацій, які зустрічаються у вашому датасеті\n",
    "unique_combinations = [comb for comb in combinations if comb in rows[['make', 'model', 'trim']].values]\n",
    "for combination in unique_combinations:\n",
    "    print(combination)"
   ]
  },
  {
   "cell_type": "code",
   "execution_count": 17,
   "id": "785f480c",
   "metadata": {},
   "outputs": [],
   "source": [
    "combination_in_rows = combinations"
   ]
  },
  {
   "cell_type": "code",
   "execution_count": 18,
   "id": "c6713e40",
   "metadata": {},
   "outputs": [
    {
     "name": "stdout",
     "output_type": "stream",
     "text": [
      "[('BMW', '7 Series', '750Li', 'Sedan'), ('BMW', '7 Series', '750i', 'Sedan'), ('BMW', '7 Series', '750Li xDrive', 'Sedan'), ('BMW', '7 Series', '750i xDrive', 'Sedan'), ('BMW', '6 Series Gran Coupe', '650i xDrive', 'Sedan')]\n"
     ]
    }
   ],
   "source": [
    "# Список для повних записів\n",
    "rows_not_null = []\n",
    "\n",
    "for combination in combination_in_rows:\n",
    "    # Вибірка рядків, що відповідають умові\n",
    "    selected_rows = ds.loc[(ds['make']==combination[0]) & (~ds['model'].isnull()) & (ds['trim']==combination[1]) & (ds['body']==combination[2])]\n",
    "    \n",
    "    # Перевірка, чи не є вибірка порожньою\n",
    "    if not selected_rows.empty:\n",
    "        # Якщо вибірка не порожня, вибираємо перший рядок та додаємо його до списку\n",
    "        row = selected_rows.iloc[0]\n",
    "        rows_not_null.append((row['make'], row['model'], row['trim'], row['body']))\n",
    "\n",
    "print(rows_not_null)"
   ]
  },
  {
   "cell_type": "code",
   "execution_count": 19,
   "id": "2249d2ae",
   "metadata": {},
   "outputs": [
    {
     "name": "stdout",
     "output_type": "stream",
     "text": [
      "        year    make                model         trim       body  \\\n",
      "0       2015     Kia              Sorento           LX        SUV   \n",
      "1       2015     Kia              Sorento           LX        SUV   \n",
      "2       2014     BMW             3 Series   328i SULEV      Sedan   \n",
      "3       2015   Volvo                  S60           T5      Sedan   \n",
      "4       2014     BMW  6 Series Gran Coupe         650i      Sedan   \n",
      "...      ...     ...                  ...          ...        ...   \n",
      "558806  2015     Kia                 K900       Luxury      Sedan   \n",
      "558807  2012     Ram                 2500  Power Wagon   Crew Cab   \n",
      "558808  2012     BMW                   X5    xDrive35d        SUV   \n",
      "558809  2015  Nissan               Altima        2.5 S      Sedan   \n",
      "558810  2014    Ford                F-150          XLT  SuperCrew   \n",
      "\n",
      "       transmission                vin state  condition  odometer   color  \\\n",
      "0         automatic  5xyktca69fg566472    ca        5.0   16639.0   white   \n",
      "1         automatic  5xyktca69fg561319    ca        5.0    9393.0   white   \n",
      "2         automatic  wba3c1c51ek116351    ca        4.5    1331.0    gray   \n",
      "3         automatic  yv1612tb4f1310987    ca        4.1   14282.0   white   \n",
      "4         automatic  wba6b2c57ed129731    ca        4.3    2641.0    gray   \n",
      "...             ...                ...   ...        ...       ...     ...   \n",
      "558806          NaN  knalw4d4xf6019304    in        4.5   18255.0  silver   \n",
      "558807    automatic  3c6td5et6cg112407    wa        5.0   54393.0   white   \n",
      "558808    automatic  5uxzw0c58cl668465    ca        4.8   50561.0   black   \n",
      "558809    automatic  1n4al3ap0fc216050    ga        3.8   16658.0   white   \n",
      "558810    automatic  1ftfw1et2eke87277    ca        3.4   15008.0    gray   \n",
      "\n",
      "       interior                                             seller    mmr  \\\n",
      "0         black                            kia motors america, inc  20500   \n",
      "1         beige                            kia motors america, inc  20800   \n",
      "2         black             financial services remarketing (lease)  31900   \n",
      "3         black                            volvo na rep/world omni  27500   \n",
      "4         black             financial services remarketing (lease)  66000   \n",
      "...         ...                                                ...    ...   \n",
      "558806    black                                   avis corporation  35300   \n",
      "558807    black                                    i -5 uhlmann rv  30200   \n",
      "558808    black             financial services remarketing (lease)  29800   \n",
      "558809    black  enterprise vehicle exchange / tra / rental / t...  15100   \n",
      "558810     gray                   ford motor credit company,llc pd  29600   \n",
      "\n",
      "        sellingprice                                 saledate  \n",
      "0              21500  Tue Dec 16 2014 12:30:00 GMT-0800 (PST)  \n",
      "1              21500  Tue Dec 16 2014 12:30:00 GMT-0800 (PST)  \n",
      "2              30000  Thu Jan 15 2015 04:30:00 GMT-0800 (PST)  \n",
      "3              27750  Thu Jan 29 2015 04:30:00 GMT-0800 (PST)  \n",
      "4              67000  Thu Dec 18 2014 12:30:00 GMT-0800 (PST)  \n",
      "...              ...                                      ...  \n",
      "558806         33000  Thu Jul 09 2015 07:00:00 GMT-0700 (PDT)  \n",
      "558807         30800  Wed Jul 08 2015 09:30:00 GMT-0700 (PDT)  \n",
      "558808         34000  Wed Jul 08 2015 09:30:00 GMT-0700 (PDT)  \n",
      "558809         11100  Thu Jul 09 2015 06:45:00 GMT-0700 (PDT)  \n",
      "558810         26700  Thu May 28 2015 05:30:00 GMT-0700 (PDT)  \n",
      "\n",
      "[558811 rows x 16 columns]\n"
     ]
    }
   ],
   "source": [
    "# Заміна значень рядків, де значення model = NaN\n",
    "\n",
    "for row in rows_not_null:\n",
    "    ds.loc[(ds['make'] == row[0]) & (ds['trim'] == row[2]) & (ds['body'] == row[3]), 'model'] = row[1]\n",
    "\n",
    "# Друк результуючого DataFrame\n",
    "print(ds)"
   ]
  },
  {
   "cell_type": "code",
   "execution_count": 20,
   "id": "8c35f354",
   "metadata": {},
   "outputs": [
    {
     "name": "stdout",
     "output_type": "stream",
     "text": [
      "make 10301  |  1.843 %\n",
      "model 10313  |  1.846 %\n",
      "trim 10651  |  1.906 %\n",
      "body 13195  |  2.361 %\n",
      "transmission 65353  |  11.695 %\n",
      "condition 11794  |  2.111 %\n",
      "odometer 94  |  0.017 %\n",
      "color 749  |  0.134 %\n",
      "interior 749  |  0.134 %\n"
     ]
    }
   ],
   "source": [
    "missing = []\n",
    "\n",
    "for x in ds.columns:\n",
    "    if ds[x].isnull().sum() != 0:\n",
    "        print(x, ds[x].isnull().sum(), \" | \",round((ds[x].isnull().sum()/ds.shape[0])*100, 3), \"%\")\n",
    "        missing.append(x)"
   ]
  },
  {
   "cell_type": "code",
   "execution_count": 21,
   "id": "970123c4",
   "metadata": {},
   "outputs": [
    {
     "name": "stdout",
     "output_type": "stream",
     "text": [
      "        year        make     model trim body transmission                vin  \\\n",
      "1736    2012  mitsubishi    galant  NaN  NaN    automatic  4a32b2ff9ce018740   \n",
      "3395    2007   chevrolet  corvette  NaN  NaN    automatic  1g1yy26u075116869   \n",
      "3499    2007    mercedes    c230wz  NaN  NaN    automatic  wdbrf52h67f904964   \n",
      "3527    2007       mazda      cx-7  NaN  NaN    automatic  jm3er293270109517   \n",
      "3550    2007      toyota    matrix  NaN  NaN    automatic  2t1kr32e47c684222   \n",
      "...      ...         ...       ...  ...  ...          ...                ...   \n",
      "541896  2004       Honda    accord  NaN  NaN    automatic  1hgcm66884a076293   \n",
      "548293  2010   Chevrolet    malibu  NaN  NaN    automatic  1g1zb5eb7af274800   \n",
      "548300  2010   Chevrolet    malibu  NaN  NaN    automatic  1g1zb5eb9af208345   \n",
      "550547  2010   Chevrolet    malibu  NaN  NaN    automatic  1g1zb5eb4af307705   \n",
      "556891  2010   Chevrolet    malibu  NaN  NaN    automatic  1g1zb5eb9af220611   \n",
      "\n",
      "       state  condition  odometer     color interior  \\\n",
      "1736      ca        4.1   65632.0     white     gray   \n",
      "3395      ca        3.6   56923.0     black    black   \n",
      "3499      ca        2.8  141008.0       red    black   \n",
      "3527      ca        2.9   89169.0     white   silver   \n",
      "3550      ca        3.9   73321.0      blue     gray   \n",
      "...      ...        ...       ...       ...      ...   \n",
      "541896    nc        3.5  199124.0  burgundy     gray   \n",
      "548293    mi        3.3   73483.0      gray    brown   \n",
      "548300    in        3.3   59853.0     black     gray   \n",
      "550547    mn        2.8   76282.0     white     gray   \n",
      "556891    mi        3.5   57161.0      gray     gray   \n",
      "\n",
      "                                seller    mmr  sellingprice  \\\n",
      "1736                dtg operations inc   7900          8000   \n",
      "3395           high bid trading co inc  21000         23000   \n",
      "3499    walters auto sales/service inc   5500          5300   \n",
      "3527                      veros credit   6050          4500   \n",
      "3550               exeter finance corp   6450          7300   \n",
      "...                                ...    ...           ...   \n",
      "541896                     bryan honda   2900          3200   \n",
      "548293              santander consumer   7250          7400   \n",
      "548300                  auto trakk llc   7850          7200   \n",
      "550547              santander consumer   7150          7400   \n",
      "556891                mcquiston motors   7950          9500   \n",
      "\n",
      "                                       saledate  \n",
      "1736    Wed Dec 17 2014 12:30:00 GMT-0800 (PST)  \n",
      "3395    Wed Dec 17 2014 12:15:00 GMT-0800 (PST)  \n",
      "3499    Tue Dec 16 2014 12:30:00 GMT-0800 (PST)  \n",
      "3527    Wed Dec 17 2014 12:30:00 GMT-0800 (PST)  \n",
      "3550    Thu Dec 18 2014 12:00:00 GMT-0800 (PST)  \n",
      "...                                         ...  \n",
      "541896  Mon Jun 15 2015 02:00:00 GMT-0700 (PDT)  \n",
      "548293  Thu Jun 18 2015 02:30:00 GMT-0700 (PDT)  \n",
      "548300  Wed Jun 17 2015 06:30:00 GMT-0700 (PDT)  \n",
      "550547  Thu Jun 18 2015 03:45:00 GMT-0700 (PDT)  \n",
      "556891  Thu Jun 18 2015 02:30:00 GMT-0700 (PDT)  \n",
      "\n",
      "[350 rows x 16 columns]\n"
     ]
    }
   ],
   "source": [
    "# Виведення рядків, де значення стовпця \"trim\" є нульовим\n",
    "rows = ds[(~ds['make'].isnull()) & (ds['trim'].isnull())]\n",
    "\n",
    "print(rows)"
   ]
  },
  {
   "cell_type": "code",
   "execution_count": 22,
   "id": "109f5395",
   "metadata": {},
   "outputs": [],
   "source": [
    "ds['make'].fillna('Missing', inplace=True)"
   ]
  },
  {
   "cell_type": "code",
   "execution_count": 23,
   "id": "eabfa002",
   "metadata": {},
   "outputs": [],
   "source": [
    "ds['model'].fillna('Missing', inplace=True)"
   ]
  },
  {
   "cell_type": "code",
   "execution_count": 24,
   "id": "62a4d9bb",
   "metadata": {},
   "outputs": [],
   "source": [
    "ds['trim'].fillna('Missing', inplace=True)"
   ]
  },
  {
   "cell_type": "code",
   "execution_count": 25,
   "id": "feec04ed",
   "metadata": {},
   "outputs": [],
   "source": [
    "ds['body'].fillna('Missing', inplace=True)"
   ]
  },
  {
   "cell_type": "code",
   "execution_count": 26,
   "id": "04a5a6d7",
   "metadata": {},
   "outputs": [
    {
     "name": "stdout",
     "output_type": "stream",
     "text": [
      "        year       make             model               trim      body  \\\n",
      "16      2015    Hyundai            Sonata                 SE     Sedan   \n",
      "35      2014      Buick            Verano  Convenience Group     Sedan   \n",
      "44      2014  Chevrolet             Cruze                1LT     Sedan   \n",
      "89      2014  Chevrolet  Silverado 2500HD         Work Truck  Crew Cab   \n",
      "112     2014  Chevrolet             Cruze                1LT     Sedan   \n",
      "...      ...        ...               ...                ...       ...   \n",
      "558788  2014      Dodge           Charger                 SE     Sedan   \n",
      "558794  2014      Dodge           Charger                 SE     Sedan   \n",
      "558803  2012    Hyundai           Elantra            Limited     Sedan   \n",
      "558804  2012     Nissan            Sentra             2.0 SR     Sedan   \n",
      "558806  2015        Kia              K900             Luxury     Sedan   \n",
      "\n",
      "       transmission                vin state  condition  odometer   color  \\\n",
      "16              NaN  5npe24af4fh001562    ca        NaN    8311.0     red   \n",
      "35              NaN  1g4pr5sk8e4175320    ca        2.0   19531.0    gray   \n",
      "44              NaN  1g1pc5sb6e7128803    ca        NaN   38261.0   white   \n",
      "89              NaN  1gc1kvc84ef152736    ca        3.6    8742.0   white   \n",
      "112             NaN  1g1pc5sbxe7113253    ca        2.8   40393.0    gray   \n",
      "...             ...                ...   ...        ...       ...     ...   \n",
      "558788          NaN  2c3cdxbg3eh324197    va        4.3   20485.0   white   \n",
      "558794          NaN  2c3cdxbg9eh324236    va        4.2   22744.0   white   \n",
      "558803          NaN  5npdh4ae7ch106397    pa        4.0   66720.0    gray   \n",
      "558804          NaN  3n1ab6ap3cl622485    tn        2.6   35858.0   white   \n",
      "558806          NaN  knalw4d4xf6019304    in        4.5   18255.0  silver   \n",
      "\n",
      "       interior                                             seller    mmr  \\\n",
      "16            —                                           avis tra  15200   \n",
      "35         gray  enterprise vehicle exchange / tra / rental / t...  15000   \n",
      "44            —                                           avis tra  11450   \n",
      "89         gray         enterprise fleet management exchange, inc.  34000   \n",
      "112       black                                   avis corporation  11450   \n",
      "...         ...                                                ...    ...   \n",
      "558788    black                              hertz corporation/gdp  16350   \n",
      "558794    black                              hertz corporation/gdp  16250   \n",
      "558803     gray                                     champion mazda  10250   \n",
      "558804     gray                                 nissan-infiniti lt   9950   \n",
      "558806    black                                   avis corporation  35300   \n",
      "\n",
      "        sellingprice                                 saledate  \n",
      "16              4200  Tue Dec 16 2014 13:00:00 GMT-0800 (PST)  \n",
      "35              9200  Tue Jan 06 2015 04:00:00 GMT-0800 (PST)  \n",
      "44              2000  Tue Dec 16 2014 13:00:00 GMT-0800 (PST)  \n",
      "89             34000  Thu Dec 18 2014 11:30:00 GMT-0800 (PST)  \n",
      "112            11700  Tue Dec 30 2014 15:00:00 GMT-0800 (PST)  \n",
      "...              ...                                      ...  \n",
      "558788         16100  Wed Jul 08 2015 07:15:00 GMT-0700 (PDT)  \n",
      "558794         15900  Wed Jul 08 2015 07:15:00 GMT-0700 (PDT)  \n",
      "558803         10400  Wed Jul 08 2015 07:30:00 GMT-0700 (PDT)  \n",
      "558804         10400  Wed Jul 08 2015 17:15:00 GMT-0700 (PDT)  \n",
      "558806         33000  Thu Jul 09 2015 07:00:00 GMT-0700 (PDT)  \n",
      "\n",
      "[65353 rows x 16 columns]\n"
     ]
    }
   ],
   "source": [
    "# Виведення рядків, де значення стовпця \"model\" є нульовим\n",
    "rows = ds[(~ds['make'].isnull()) & (ds['transmission'].isnull())]\n",
    "\n",
    "print(rows)"
   ]
  },
  {
   "cell_type": "code",
   "execution_count": 27,
   "id": "46563a10",
   "metadata": {},
   "outputs": [],
   "source": [
    "# Обчислення відсоткового співвідношення кожної категорії\n",
    "transmission_counts = ds['transmission'].value_counts(normalize=True)\n",
    "\n",
    "# Заповнення пустих значень з урахуванням відсоткового співвідношення\n",
    "filled_transmission = ds['transmission'].fillna(pd.Series(np.random.choice(transmission_counts.index, p=transmission_counts.values, size=len(ds))))\n",
    "\n",
    "# Заміна стовпця в DataFrame заповненим стовпцем\n",
    "ds['transmission'] = filled_transmission"
   ]
  },
  {
   "cell_type": "code",
   "execution_count": 28,
   "id": "6dd119a0",
   "metadata": {},
   "outputs": [],
   "source": [
    "condition_mode = ds['condition'].mode().iloc[0]\n",
    "\n",
    "ds['condition'] = ds[\"condition\"].fillna(condition_mode)"
   ]
  },
  {
   "cell_type": "code",
   "execution_count": 29,
   "id": "407a71cf",
   "metadata": {},
   "outputs": [],
   "source": [
    "odometer_mean = ds['odometer'].mean()\n",
    "\n",
    "ds['odometer'] = ds[\"odometer\"].fillna(odometer_mean)"
   ]
  },
  {
   "cell_type": "code",
   "execution_count": 30,
   "id": "261564d2",
   "metadata": {},
   "outputs": [],
   "source": [
    "color_mode = ds['color'].mode().iloc[0]\n",
    "\n",
    "ds['color'] = ds[\"color\"].fillna(color_mode)"
   ]
  },
  {
   "cell_type": "code",
   "execution_count": 31,
   "id": "d052ea59",
   "metadata": {},
   "outputs": [],
   "source": [
    "interior_mode = ds['interior'].mode().iloc[0]\n",
    "\n",
    "ds['interior'] = ds[\"interior\"].fillna(interior_mode)"
   ]
  },
  {
   "cell_type": "code",
   "execution_count": 32,
   "id": "c1a0fe93",
   "metadata": {},
   "outputs": [],
   "source": [
    "missing = []\n",
    "\n",
    "for x in ds.columns:\n",
    "    if ds[x].isnull().sum() != 0:\n",
    "        print(x, ds[x].isnull().sum(), \" | \",round((ds[x].isnull().sum()/ds.shape[0])*100, 3), \"%\")\n",
    "        missing.append(x)"
   ]
  },
  {
   "cell_type": "markdown",
   "id": "4469a1b4",
   "metadata": {},
   "source": [
    "# Categorical encoding"
   ]
  },
  {
   "cell_type": "code",
   "execution_count": 42,
   "id": "7a7c3932",
   "metadata": {},
   "outputs": [
    {
     "name": "stdout",
     "output_type": "stream",
     "text": [
      "^C\n"
     ]
    }
   ],
   "source": [
    "!pip uninstall category-encoders"
   ]
  },
  {
   "cell_type": "code",
   "execution_count": 44,
   "id": "fc6db4bd",
   "metadata": {},
   "outputs": [
    {
     "name": "stdout",
     "output_type": "stream",
     "text": [
      "Requirement already satisfied: category-encoders in d:\\pythons\\python_312\\lib\\site-packages (2.6.3)\n",
      "Requirement already satisfied: numpy>=1.14.0 in d:\\pythons\\python_312\\lib\\site-packages (from category-encoders) (1.26.4)\n",
      "Requirement already satisfied: scikit-learn>=0.20.0 in d:\\pythons\\python_312\\lib\\site-packages (from category-encoders) (1.4.1.post1)\n",
      "Requirement already satisfied: scipy>=1.0.0 in d:\\pythons\\python_312\\lib\\site-packages (from category-encoders) (1.12.0)\n",
      "Requirement already satisfied: statsmodels>=0.9.0 in d:\\pythons\\python_312\\lib\\site-packages (from category-encoders) (0.14.2)\n",
      "Requirement already satisfied: pandas>=1.0.5 in d:\\pythons\\python_312\\lib\\site-packages (from category-encoders) (2.2.1)\n",
      "Requirement already satisfied: patsy>=0.5.1 in d:\\pythons\\python_312\\lib\\site-packages (from category-encoders) (0.5.6)\n",
      "Requirement already satisfied: python-dateutil>=2.8.2 in d:\\pythons\\python_312\\lib\\site-packages (from pandas>=1.0.5->category-encoders) (2.8.2)\n",
      "Requirement already satisfied: pytz>=2020.1 in d:\\pythons\\python_312\\lib\\site-packages (from pandas>=1.0.5->category-encoders) (2024.1)\n",
      "Requirement already satisfied: tzdata>=2022.7 in d:\\pythons\\python_312\\lib\\site-packages (from pandas>=1.0.5->category-encoders) (2024.1)\n",
      "Requirement already satisfied: six in d:\\pythons\\python_312\\lib\\site-packages (from patsy>=0.5.1->category-encoders) (1.16.0)\n",
      "Requirement already satisfied: joblib>=1.2.0 in d:\\pythons\\python_312\\lib\\site-packages (from scikit-learn>=0.20.0->category-encoders) (1.3.2)\n",
      "Requirement already satisfied: threadpoolctl>=2.0.0 in d:\\pythons\\python_312\\lib\\site-packages (from scikit-learn>=0.20.0->category-encoders) (3.3.0)\n",
      "Requirement already satisfied: packaging>=21.3 in d:\\pythons\\python_312\\lib\\site-packages (from statsmodels>=0.9.0->category-encoders) (23.2)\n"
     ]
    }
   ],
   "source": [
    "!pip install category-encoders"
   ]
  },
  {
   "cell_type": "code",
   "execution_count": 45,
   "id": "f0806a9d",
   "metadata": {},
   "outputs": [
    {
     "name": "stdout",
     "output_type": "stream",
     "text": [
      "Name: category-encoders\n",
      "Version: 2.6.3\n",
      "Summary: A collection of sklearn transformers to encode categorical variables as numeric\n",
      "Home-page: https://github.com/scikit-learn-contrib/category_encoders\n",
      "Author: Will McGinnis\n",
      "Author-email: will@pedalwrencher.com\n",
      "License: BSD\n",
      "Location: D:\\Pythons\\python_312\\Lib\\site-packages\n",
      "Requires: numpy, pandas, patsy, scikit-learn, scipy, statsmodels\n",
      "Required-by: \n"
     ]
    }
   ],
   "source": [
    "!pip show category_encoders"
   ]
  },
  {
   "cell_type": "code",
   "execution_count": 33,
   "id": "030c68ad",
   "metadata": {},
   "outputs": [],
   "source": [
    "# for one hot encoding with sklearn\n",
    "from sklearn.preprocessing import OneHotEncoder, LabelEncoder\n",
    "from pandas import get_dummies\n",
    "from sklearn.model_selection import LeaveOneOut\n",
    "from sklearn.feature_extraction import FeatureHasher\n",
    "import category_encoders as ce"
   ]
  },
  {
   "cell_type": "code",
   "execution_count": 34,
   "id": "6ab3dfd8",
   "metadata": {},
   "outputs": [
    {
     "data": {
      "text/plain": [
       "year                34\n",
       "make                97\n",
       "model              974\n",
       "trim              1976\n",
       "body                86\n",
       "transmission         2\n",
       "vin             550296\n",
       "state               38\n",
       "condition           41\n",
       "odometer        172278\n",
       "color               20\n",
       "interior            17\n",
       "seller           14264\n",
       "mmr               1101\n",
       "sellingprice      1887\n",
       "saledate          3745\n",
       "dtype: int64"
      ]
     },
     "execution_count": 34,
     "metadata": {},
     "output_type": "execute_result"
    }
   ],
   "source": [
    "ds.nunique()"
   ]
  },
  {
   "cell_type": "code",
   "execution_count": 35,
   "id": "d21e673a",
   "metadata": {},
   "outputs": [
    {
     "data": {
      "text/html": [
       "<div>\n",
       "<style scoped>\n",
       "    .dataframe tbody tr th:only-of-type {\n",
       "        vertical-align: middle;\n",
       "    }\n",
       "\n",
       "    .dataframe tbody tr th {\n",
       "        vertical-align: top;\n",
       "    }\n",
       "\n",
       "    .dataframe thead th {\n",
       "        text-align: right;\n",
       "    }\n",
       "</style>\n",
       "<table border=\"1\" class=\"dataframe\">\n",
       "  <thead>\n",
       "    <tr style=\"text-align: right;\">\n",
       "      <th></th>\n",
       "      <th>year</th>\n",
       "      <th>make</th>\n",
       "      <th>model</th>\n",
       "      <th>trim</th>\n",
       "      <th>body</th>\n",
       "      <th>transmission</th>\n",
       "      <th>vin</th>\n",
       "      <th>state</th>\n",
       "      <th>condition</th>\n",
       "      <th>odometer</th>\n",
       "      <th>color</th>\n",
       "      <th>interior</th>\n",
       "      <th>seller</th>\n",
       "      <th>mmr</th>\n",
       "      <th>sellingprice</th>\n",
       "      <th>saledate</th>\n",
       "    </tr>\n",
       "  </thead>\n",
       "  <tbody>\n",
       "    <tr>\n",
       "      <th>0</th>\n",
       "      <td>2015</td>\n",
       "      <td>Kia</td>\n",
       "      <td>Sorento</td>\n",
       "      <td>LX</td>\n",
       "      <td>SUV</td>\n",
       "      <td>automatic</td>\n",
       "      <td>5xyktca69fg566472</td>\n",
       "      <td>ca</td>\n",
       "      <td>5.0</td>\n",
       "      <td>16639.0</td>\n",
       "      <td>white</td>\n",
       "      <td>black</td>\n",
       "      <td>kia motors america, inc</td>\n",
       "      <td>20500</td>\n",
       "      <td>21500</td>\n",
       "      <td>Tue Dec 16 2014 12:30:00 GMT-0800 (PST)</td>\n",
       "    </tr>\n",
       "    <tr>\n",
       "      <th>1</th>\n",
       "      <td>2015</td>\n",
       "      <td>Kia</td>\n",
       "      <td>Sorento</td>\n",
       "      <td>LX</td>\n",
       "      <td>SUV</td>\n",
       "      <td>automatic</td>\n",
       "      <td>5xyktca69fg561319</td>\n",
       "      <td>ca</td>\n",
       "      <td>5.0</td>\n",
       "      <td>9393.0</td>\n",
       "      <td>white</td>\n",
       "      <td>beige</td>\n",
       "      <td>kia motors america, inc</td>\n",
       "      <td>20800</td>\n",
       "      <td>21500</td>\n",
       "      <td>Tue Dec 16 2014 12:30:00 GMT-0800 (PST)</td>\n",
       "    </tr>\n",
       "    <tr>\n",
       "      <th>2</th>\n",
       "      <td>2014</td>\n",
       "      <td>BMW</td>\n",
       "      <td>3 Series</td>\n",
       "      <td>328i SULEV</td>\n",
       "      <td>Sedan</td>\n",
       "      <td>automatic</td>\n",
       "      <td>wba3c1c51ek116351</td>\n",
       "      <td>ca</td>\n",
       "      <td>4.5</td>\n",
       "      <td>1331.0</td>\n",
       "      <td>gray</td>\n",
       "      <td>black</td>\n",
       "      <td>financial services remarketing (lease)</td>\n",
       "      <td>31900</td>\n",
       "      <td>30000</td>\n",
       "      <td>Thu Jan 15 2015 04:30:00 GMT-0800 (PST)</td>\n",
       "    </tr>\n",
       "    <tr>\n",
       "      <th>3</th>\n",
       "      <td>2015</td>\n",
       "      <td>Volvo</td>\n",
       "      <td>S60</td>\n",
       "      <td>T5</td>\n",
       "      <td>Sedan</td>\n",
       "      <td>automatic</td>\n",
       "      <td>yv1612tb4f1310987</td>\n",
       "      <td>ca</td>\n",
       "      <td>4.1</td>\n",
       "      <td>14282.0</td>\n",
       "      <td>white</td>\n",
       "      <td>black</td>\n",
       "      <td>volvo na rep/world omni</td>\n",
       "      <td>27500</td>\n",
       "      <td>27750</td>\n",
       "      <td>Thu Jan 29 2015 04:30:00 GMT-0800 (PST)</td>\n",
       "    </tr>\n",
       "    <tr>\n",
       "      <th>4</th>\n",
       "      <td>2014</td>\n",
       "      <td>BMW</td>\n",
       "      <td>6 Series Gran Coupe</td>\n",
       "      <td>650i</td>\n",
       "      <td>Sedan</td>\n",
       "      <td>automatic</td>\n",
       "      <td>wba6b2c57ed129731</td>\n",
       "      <td>ca</td>\n",
       "      <td>4.3</td>\n",
       "      <td>2641.0</td>\n",
       "      <td>gray</td>\n",
       "      <td>black</td>\n",
       "      <td>financial services remarketing (lease)</td>\n",
       "      <td>66000</td>\n",
       "      <td>67000</td>\n",
       "      <td>Thu Dec 18 2014 12:30:00 GMT-0800 (PST)</td>\n",
       "    </tr>\n",
       "  </tbody>\n",
       "</table>\n",
       "</div>"
      ],
      "text/plain": [
       "   year   make                model        trim   body transmission  \\\n",
       "0  2015    Kia              Sorento          LX    SUV    automatic   \n",
       "1  2015    Kia              Sorento          LX    SUV    automatic   \n",
       "2  2014    BMW             3 Series  328i SULEV  Sedan    automatic   \n",
       "3  2015  Volvo                  S60          T5  Sedan    automatic   \n",
       "4  2014    BMW  6 Series Gran Coupe        650i  Sedan    automatic   \n",
       "\n",
       "                 vin state  condition  odometer  color interior  \\\n",
       "0  5xyktca69fg566472    ca        5.0   16639.0  white    black   \n",
       "1  5xyktca69fg561319    ca        5.0    9393.0  white    beige   \n",
       "2  wba3c1c51ek116351    ca        4.5    1331.0   gray    black   \n",
       "3  yv1612tb4f1310987    ca        4.1   14282.0  white    black   \n",
       "4  wba6b2c57ed129731    ca        4.3    2641.0   gray    black   \n",
       "\n",
       "                                   seller    mmr  sellingprice  \\\n",
       "0                 kia motors america, inc  20500         21500   \n",
       "1                 kia motors america, inc  20800         21500   \n",
       "2  financial services remarketing (lease)  31900         30000   \n",
       "3                 volvo na rep/world omni  27500         27750   \n",
       "4  financial services remarketing (lease)  66000         67000   \n",
       "\n",
       "                                  saledate  \n",
       "0  Tue Dec 16 2014 12:30:00 GMT-0800 (PST)  \n",
       "1  Tue Dec 16 2014 12:30:00 GMT-0800 (PST)  \n",
       "2  Thu Jan 15 2015 04:30:00 GMT-0800 (PST)  \n",
       "3  Thu Jan 29 2015 04:30:00 GMT-0800 (PST)  \n",
       "4  Thu Dec 18 2014 12:30:00 GMT-0800 (PST)  "
      ]
     },
     "execution_count": 35,
     "metadata": {},
     "output_type": "execute_result"
    }
   ],
   "source": [
    "ds.head(5)"
   ]
  },
  {
   "cell_type": "code",
   "execution_count": 36,
   "id": "43ea97f7",
   "metadata": {},
   "outputs": [
    {
     "data": {
      "text/plain": [
       "array(['Kia', 'BMW', 'Volvo', 'Nissan', 'Chevrolet', 'Audi', 'Ford',\n",
       "       'Hyundai', 'Buick', 'Cadillac', 'Acura', 'Lexus', 'Infiniti',\n",
       "       'Jeep', 'Mercedes-Benz', 'Mitsubishi', 'Mazda', 'MINI',\n",
       "       'Land Rover', 'Lincoln', 'lincoln', 'Jaguar', 'Volkswagen',\n",
       "       'Toyota', 'Subaru', 'Scion', 'Porsche', 'Missing', 'bmw', 'Dodge',\n",
       "       'FIAT', 'Chrysler', 'ford', 'Ferrari', 'Honda', 'GMC',\n",
       "       'mitsubishi', 'Ram', 'smart', 'chevrolet', 'Bentley', 'chrysler',\n",
       "       'pontiac', 'Pontiac', 'Saturn', 'Maserati', 'Mercury', 'HUMMER',\n",
       "       'landrover', 'cadillac', 'land rover', 'mercedes', 'mazda',\n",
       "       'toyota', 'lexus', 'gmc truck', 'honda', 'nissan', 'porsche',\n",
       "       'Saab', 'Suzuki', 'dodge', 'subaru', 'Oldsmobile', 'oldsmobile',\n",
       "       'hyundai', 'jeep', 'Isuzu', 'dodge tk', 'Geo', 'acura',\n",
       "       'volkswagen', 'suzuki', 'kia', 'audi', 'Rolls-Royce', 'gmc',\n",
       "       'maserati', 'mazda tk', 'mercury', 'buick', 'hyundai tk',\n",
       "       'mercedes-b', 'vw', 'Daewoo', 'chev truck', 'ford tk', 'plymouth',\n",
       "       'Plymouth', 'ford truck', 'Tesla', 'airstream', 'dot',\n",
       "       'Aston Martin', 'Fisker', 'Lamborghini', 'Lotus'], dtype=object)"
      ]
     },
     "execution_count": 36,
     "metadata": {},
     "output_type": "execute_result"
    }
   ],
   "source": [
    "ds['make'].unique()"
   ]
  },
  {
   "cell_type": "code",
   "execution_count": 37,
   "id": "63bb58dc",
   "metadata": {},
   "outputs": [],
   "source": [
    "ds['make'] = ds['make'].str.lower()"
   ]
  },
  {
   "cell_type": "code",
   "execution_count": 38,
   "id": "20a247a3",
   "metadata": {},
   "outputs": [
    {
     "data": {
      "text/plain": [
       "array(['kia', 'bmw', 'volvo', 'nissan', 'chevrolet', 'audi', 'ford',\n",
       "       'hyundai', 'buick', 'cadillac', 'acura', 'lexus', 'infiniti',\n",
       "       'jeep', 'mercedes-benz', 'mitsubishi', 'mazda', 'mini',\n",
       "       'land rover', 'lincoln', 'jaguar', 'volkswagen', 'toyota',\n",
       "       'subaru', 'scion', 'porsche', 'missing', 'dodge', 'fiat',\n",
       "       'chrysler', 'ferrari', 'honda', 'gmc', 'ram', 'smart', 'bentley',\n",
       "       'pontiac', 'saturn', 'maserati', 'mercury', 'hummer', 'landrover',\n",
       "       'mercedes', 'gmc truck', 'saab', 'suzuki', 'oldsmobile', 'isuzu',\n",
       "       'dodge tk', 'geo', 'rolls-royce', 'mazda tk', 'hyundai tk',\n",
       "       'mercedes-b', 'vw', 'daewoo', 'chev truck', 'ford tk', 'plymouth',\n",
       "       'ford truck', 'tesla', 'airstream', 'dot', 'aston martin',\n",
       "       'fisker', 'lamborghini', 'lotus'], dtype=object)"
      ]
     },
     "execution_count": 38,
     "metadata": {},
     "output_type": "execute_result"
    }
   ],
   "source": [
    "ds['make'].unique()"
   ]
  },
  {
   "cell_type": "code",
   "execution_count": 39,
   "id": "210805a8",
   "metadata": {},
   "outputs": [
    {
     "data": {
      "text/plain": [
       "array(['Sorento', '3 Series', 'S60', '6 Series Gran Coupe', 'Altima',\n",
       "       'M5', 'Cruze', 'A4', 'Camaro', 'A6', 'Optima', 'Fusion', 'Sonata',\n",
       "       'Q5', '6 Series', 'Impala', '5 Series', 'A3', 'XC70', 'X5', 'SQ5',\n",
       "       'S5', 'Verano', 'Suburban', 'ELR', 'V60', 'X6', 'ILX', 'K900',\n",
       "       'Malibu', 'RX 350', 'Versa', 'Elantra', 'Versa Note', 'A8', 'X1',\n",
       "       '7 Series', 'Enclave', 'TTS', '4 Series', 'Silverado 2500HD',\n",
       "       'MDX', 'Silverado 1500', 'SRX', 'G Coupe', 'G Sedan', 'FX',\n",
       "       'Santa Fe', 'Genesis', 'Equus', 'Sonata Hybrid', 'Accent',\n",
       "       'Veloster', 'Elantra Coupe', 'Azera', 'Tucson', 'Genesis Coupe',\n",
       "       'Wrangler', 'S-Class', 'GS 350', 'Outlander', 'C-Class', 'Mazda2',\n",
       "       'Rio', 'M', '370Z', 'Soul', 'Outlander Sport', 'SLK-Class',\n",
       "       'ES 350', 'E-Class', 'Mazda3', 'Cooper Clubman', 'Cooper', 'CX-9',\n",
       "       'Forte', 'Compass', 'JX', 'RX 450h', 'LR4', 'Mazda5',\n",
       "       'Range Rover Evoque', 'LS 460', 'GLK-Class', 'Sportage',\n",
       "       'Grand Cherokee', 'MKX', 'mkt', 'XF', 'GL-Class', 'M-Class',\n",
       "       'Cooper Countryman', 'Lancer', 'Range Rover Sport', 'Passat',\n",
       "       'Corolla', 'XC60', 'Sienna', 'Juke', 'Yaris', 'Sentra', 'Rogue',\n",
       "       'NV', 'CC', 'Leaf', 'Camry', 'Tacoma', 'Jetta', 'Impreza WRX',\n",
       "       'FJ Cruiser', 'Beetle', 'Avalon', 'FR-S', 'NV200', 'RAV4', 'Quest',\n",
       "       'Tundra', 'tC', 'Maxima', 'Cayenne', '911', 'Xterra', 'Prius',\n",
       "       'S80', 'Frontier', 'Boxster', 'Camry Hybrid', 'xB', 'Cube',\n",
       "       'Jetta SportWagen', '4Runner', 'Sequoia', 'Legacy', 'Armada',\n",
       "       'Venza', 'Murano', 'Pathfinder', 'Panamera', 'Forester',\n",
       "       'Highlander', 'Impreza', 'Missing', '750i', 'TSX', '1 Series',\n",
       "       'TL', '750li', 'S4', 'A7', 'A5', 'RDX', 'M3', 'Cooper Coupe',\n",
       "       'ZDX', 'R8', 'X3', 'Avenger', 'E-Series Wagon', 'Escape', 'Edge',\n",
       "       'Focus', 'Flex', 'Z4', 'Traverse', 'F-350 Super Duty', 'Fiesta',\n",
       "       '500', '200', 'Journey', 'Charger', 'e350', 'Equinox', '300',\n",
       "       'F-150', 'Explorer', 'Captiva Sport', 'Escalade', 'Grand Caravan',\n",
       "       'CTS Coupe', 'Town and Country', 'E-Series Van', 'Volt',\n",
       "       'Express Cargo', 'e150', 'X5 M', 'Expedition', 'Colorado',\n",
       "       'Express', 'California', 'Escalade ESV', 'Sonic', 'Accord', 'CR-V',\n",
       "       'Mustang', 'Civic', 'Fit', 'Pilot', 'Odyssey', 'Crosstour',\n",
       "       'Transit Connect', 'Terrain', 'Taurus', 'G Convertible', 'Yukon',\n",
       "       'Veracruz', 'XJ', 'Liberty', 'IS 250', 'XK', 'QX', 'CT 200h',\n",
       "       'Mazda6', 'MKZ', 'Navigator', 'Range Rover', 'SL-Class', 'Sedona',\n",
       "       'IS 350', 'Patriot', 'galant', '1500', 'GT-R', '2500', 'Galant',\n",
       "       'fortwo', 'GLI', '5 Series Gran Turismo', 'XC90', 'Tiguan', 'GTI',\n",
       "       'Q7', 'Highlander Hybrid', 'Prius Plug-in', 'CR-Z', 'EX',\n",
       "       'Sierra 1500', 'LaCrosse', 'HHR', 'Accord Crosstour', 'CTS',\n",
       "       'Nitro', 'Tahoe', 'Challenger', 'CTS-V', 'Escape Hybrid', 'X6 M',\n",
       "       'Ranger', 'Insight', 'Fusion Hybrid', 'CTS-V Coupe',\n",
       "       'F-250 Super Duty', 'Acadia', 'Impala Limited', 'Dart', 'Spark',\n",
       "       'M37', 'Sprinter', 'Town Car', 'CLS-Class', 'CX-7', 'MKT', 'QX56',\n",
       "       'Aveo', 'Outback', 'Caliber', 'Routan', 'g1500', 'Sebring',\n",
       "       'Corvette', 'Continental GT Speed', 'malibu', 'Land Cruiser',\n",
       "       'town', 'V50', 'Commander', 'Altima Hybrid', 'G37 Convertible',\n",
       "       'g6', 'New Beetle', 'Golf', 'LR2', 'Lancer Sportback', 'G5',\n",
       "       'Yukon XL', 'Escalade Hybrid', 'Avalanche', 'Titan', 'Spectra',\n",
       "       'Rondo', 'Borrego', 'G-Class', 'MKS', 'CLK-Class', 'Tahoe Hybrid',\n",
       "       'Econoline Cargo', 'Econoline Wagon', 'PT Cruiser', 'STS',\n",
       "       'Ridgeline', 'F-450 Super Duty', 'Magnum', 'Durango', 'S40',\n",
       "       'Malibu Classic', 'TT', 'Taurus X', 'Explorer Sport Trac',\n",
       "       'Ram Pickup 1500', 'impala', 'Cobalt', 'Pacifica', 'S6', 'Rabbit',\n",
       "       'C70', 'Sierra 2500HD', 'C30', 'VUE', 'GranTurismo', 'G6',\n",
       "       'Grand Prix', '350Z', 'Raider', 'Mazdaspeed Mazda3', 'Solstice',\n",
       "       'Milan', 'GX 470', 'Aura', 'RX 400h', 'Matrix', 'H3', 'CL-Class',\n",
       "       'Outlook', '7', 'G37', 'IS F', 'Touareg 2', 'Lancer Evolution',\n",
       "       'G35', 'xD', 'XJ-Series', 'G8', 'hhr', 'H2', 'DTS', 'lr3', 'sts',\n",
       "       'Silverado 1500 Classic', 'M45', 'Uplander', 'GS 450h', 'corvette',\n",
       "       'rangerover', 'Rendezvous', 'Monte Carlo', 'FX35', 'range', 'ION',\n",
       "       'R-Class', 'lancer', 'Eclipse', 'c230wz', 'cx-7', 'B9 Tribeca',\n",
       "       'matrix', 'tundra', 'RSX', 'mazda5', 'Mariner', 'gx',\n",
       "       'Five Hundred', 'Envoy XL', 'S-Type', 'Element',\n",
       "       'Continental Flying Spur', 'S2000', 'FX45', 'sr', 'pilot',\n",
       "       'GS 430', 'Cayman S', 'Mark LT', 'ES 330', 'GS 300', '350z',\n",
       "       'Camry Solara', 'rx8', 'Touareg', 'Relay', 'lx', 'allroad quattro',\n",
       "       '9-3', '500L', 'C-Max Hybrid', 'pacifica', 'Freestyle',\n",
       "       'Ram Pickup 3500', 'Sprinter Cargo', 'DeVille', 'H2 SUT',\n",
       "       'TrailBlazer', 'Canyon', 'srx', 'Dakota', 'Continental GT', 'Neon',\n",
       "       'Stratus', 'Q45', 'Freestar', 'Montana', 'Grand Marquis', 'XLR',\n",
       "       'Aviator', 'g55', 'MPV', 'LS 430', 'Verona', 'Forenza', 'RX 330',\n",
       "       '300M', 'SC 430', 'discovery', 'Excursion', 'Envoy XUV', 'Envoy',\n",
       "       'Concorde', 'Monterey', 'stratus', 'Mountaineer', 'Amanti',\n",
       "       'Malibu Maxx', 'Celica', 'Grand Am', 'Endeavor', 'Marauder',\n",
       "       'escape', 'QX4', 'LS', 'Blazer', 'Ram Pickup 2500', 'LeSabre',\n",
       "       'V40', 'Mazdaspeed Protege', 'Montero', 'ES 300', 'focus',\n",
       "       'Thunderbird', 'Century', 'Cavalier', 'Venture', 'S-10', 's55',\n",
       "       'Cougar', 'XL-7', 'Windstar', 'Silverado 1500HD', 'Explorer Sport',\n",
       "       'Savana Cargo', 'X-Type', 'Sonoma', 'IS 300', 'forester',\n",
       "       'Protege5', 'sprinter', 'RL', 'Alero', 'Grand Vitara', 'RX 300',\n",
       "       'L-Series', 'V70', 'Intrigue', 'XC', 'Discovery Series II',\n",
       "       'S-Series', 'alero', 'santa', 'ECHO', 'MX-5 Miata', 'Continental',\n",
       "       'Seville', 'camry', 'Park Avenue', 'Millenia', 'I30', 'gr',\n",
       "       'sienna', 'camaro', 'Cherokee', 'Z3', 'civic', 'ram', 'odyssey',\n",
       "       'taurus', 'expedition', 'Prizm', 'Escort', 's10', 'LHS',\n",
       "       'windstar', 'f250', 'Regal', 'explorer', 'G20', 'Bonneville',\n",
       "       'Eldorado', 'voyager', 'venture', 'durango', 'Intrepid', 'Contour',\n",
       "       'S90', 'Sunfire', 'mpv', 'caravan', '200SX', 'Rodeo', 'wrangler',\n",
       "       'f150', 'Tercel', 'S70', 'Discovery', 'Mustang SVT Cobra', '300e',\n",
       "       'pickup', 'ciera', 'Legend', 'LS 400', 'Cutlass Ciera',\n",
       "       'Santa Fe Sport', 'Cadenza', 'Q50', 'Elantra GT', 'F-TYPE',\n",
       "       'Shelby GT500', 'QX70', 'QX60', 'Q60 Convertible',\n",
       "       'Cooper Roadster', 'CX-5', 'Cooper Paceman', 'Rogue Select',\n",
       "       'Cayman', 'CLA-Class', 'allroad', 'ATS', 'Prius v',\n",
       "       'Continental GTC', 'XV Crosstrek', '3500', 'C-Max Energi',\n",
       "       'Focus ST', 'RS 7', 'GX 460', 'CTS Wagon', 'SLS AMG', 'Aspen',\n",
       "       'Eclipse Spyder', 'Vibe', 'Eos', 'Entourage', 'expeditn', 'rl',\n",
       "       'Caravan', 'Quattroporte', 'M35', '9-5', 'SSR', 'Astro Cargo',\n",
       "       'Safari Cargo', 'passat', 'Tribute', 'Diamante', 'Sable',\n",
       "       'Silverado 3500', 'Phaeton', 'R32', 'I35', 'g500', 'Bravada',\n",
       "       'Tahoe Limited/Z71', 'Truck', 'C/K 1500 Series', 'grand', 'SC 300',\n",
       "       'Roadmaster', 'SC 400', '420sel', 'LX 570', 'QX80', 'RS 5',\n",
       "       'Jetta GLI', 'ES 300h', 'capt', 'M4', 'SX4', 'iQ', 'Kizashi',\n",
       "       'C/V Cargo Van', 'Prius c', '750lxi', 'alp', 'Lucerne',\n",
       "       'Escalade EXT', 'Silverado 3500HD', 'Crown Victoria',\n",
       "       'Sierra 3500HD', 'M56', 'rio', 'IS 250 C', '3', 'endeavor',\n",
       "       'corolla', 'jetta', 'ActiveHybrid X6', 'a4', 'dts', 'g3500',\n",
       "       'colorado', 'sebring', 'e250', 'police', 'Elantra Touring',\n",
       "       'G37 Coupe', 'HS 250h', 'journey', 'Mazdaspeed3', 'Milan Hybrid',\n",
       "       'Ghost', 'Silverado 1500 Hybrid', 'crown', 'Yukon Hybrid',\n",
       "       'elantra', 'optima', 'borrego', 'mazda6', '6', 'Mariner Hybrid',\n",
       "       'montana', 'Torrent', 'VUE Hybrid', 'G3', '9-7X', 'vibe',\n",
       "       'Expedition EL', 'Tiburon', 'patriot', 'LR3', 'Navigator L',\n",
       "       'Astra', 'Tribeca', 'XL7', 'sx4', 'Sky', 'Reno', 'M6', 'S8',\n",
       "       'Terraza', 'Silverado 2500HD Classic', 'uplander', 'ram3500',\n",
       "       'Sierra 1500 Classic', 'Sierra 2500HD Classic', 'Fusion Energi',\n",
       "       'XK-Series', 'quattroporte', 'B-Series Truck', 'mazda3', 'b200',\n",
       "       'Mazdaspeed Mazda6', 'Montego', 'g5', 'yaris', 'Rainier',\n",
       "       'TrailBlazer EXT', 'optra', 'Crossfire', 'magnum', 'savana',\n",
       "       'Sierra 1500HD', 'ridgelin', 'Savana', 'Zephyr', 'rrs', 'tribute',\n",
       "       'carrera', 'Montana SV6', 'wave', 'tt', 'Classic', 'pt',\n",
       "       'freestyle', 'Ascender', 'XG350', 'Q60 Coupe', 'Q70', 'QX50',\n",
       "       'pursuit', 'x-trail', 'GTO', 'xA', 'L300', 'Baja', '9-2X', 'Aerio',\n",
       "       'el', 'rainier', 'Silverado 2500', 'Astro', 'Tracker', 'intrepid',\n",
       "       'F-150 Heritage', 'expedit', 'accord', 'Freelander', 'c240w',\n",
       "       'MR2 Spyder', 'RS 6', '320i', 'Voyager', 'Axiom', 'cl55',\n",
       "       'Montero Sport', 'sl55', 'Protege', 'Silhouette', 'b1500',\n",
       "       'concorde', '626', 'Blackwood', 'Rodeo Sport', 'LX 470',\n",
       "       'Villager', 'Firebird', 'Aztek', 'Aurora', 'CL', 'EuroVan',\n",
       "       'Catera', 'Leganza', 'XG300', 'Prelude', 'Trooper', 'Prowler',\n",
       "       'Cabrio', 'Integra', 'cavalier', 'astro', 'excurs', 'dakota',\n",
       "       'Cirrus', 'twn&country', 'Jimmy', 'safari', 'ranger', 'sonoma',\n",
       "       'Sierra 2500', 'yukon', 'Sephia', 'Passport', 'Mirage', 'breeze',\n",
       "       'silhouette', 'villager', 'beetle', 'suburban', 'Lumina', 'Amigo',\n",
       "       'mountaineer', 'Esteem', 'pathfinder', 'quest', 'Breeze', 'e300dt',\n",
       "       'intrigue', 'lumina', 'Cabriolet', 'envoy', 'Cutlass', 'GS 400',\n",
       "       'E-150', 'Regency', 'thunderbird', 'B-Series Pickup', 'legacy',\n",
       "       'corsica', 'bronco', 'Le Baron', 'Caprice', 'Pickup', 'century',\n",
       "       '500-Class', '300-Class', 'previa', 'Murano CrossCabriolet',\n",
       "       'NV Cargo', 'Jetta Hybrid', 'S7', 'Encore', 'XTS',\n",
       "       'Black Diamond Avalanche', 'RLX', '2 Series', 'M6 Gran Coupe',\n",
       "       'regal', 'versa', 'BRZ', 'C/V Tradesman', 'Model S',\n",
       "       'Beetle Convertible', 'Golf R', 'routan', 'TSX Sport Wagon',\n",
       "       'interstate', 'a6', 'Corvette Stingray', 'SS', 'Mazdaspeed 3',\n",
       "       'i-MiEV', 'F430', 'EX35', 'swift', 'GranSport', 'escalade', 'neon',\n",
       "       'f350', 'Yukon Denali', 'Ghibli', '960', 'Cutlass Supreme',\n",
       "       'cougar', 'IS 350 C', 'lacrosse', 'tucson', '323i', 'cobalt', 'x3',\n",
       "       'Mazdaspeed MX-5 Miata', 'Ram Cargo', 'Safari', 'Eighty-Eight',\n",
       "       '850', 'J30', 'Promaster Cargo Van', 'sonic', 'rr', '1',\n",
       "       'Malibu Hybrid', '350', 'twn/cntry', 'Spirit', 'Accord Hybrid',\n",
       "       '3 Series Gran Turismo', 'e', 'cruze', 'c230', 'crossfire',\n",
       "       'Viper', 'Riviera', 'compass', 'Avalon Hybrid', 'RX-8',\n",
       "       'V8 Vantage', 'Equator', 'sportage', 'C/K 3500 Series',\n",
       "       'Mark VIII', 'charger', 'GranTurismo Convertible', 'avenger',\n",
       "       'equinox', 'allure', 'c240s', 'Vitara', 'avalon', 'eurovan',\n",
       "       'siera', 'pathfind', 'Eighty-Eight Royale', 'cherokee', 'aveo',\n",
       "       'GS 460', 'Tribute Hybrid', 'Aura Hybrid', 'tahoe', 'g2500',\n",
       "       '300ZX', 'Golf GTI', 'i-Series', 'golf', 'MKZ Hybrid', 'Macan',\n",
       "       'FX50', 'comm', 'STS-V', 'Windstar Cargo', 'CTS-V Wagon', 'Karma',\n",
       "       '328i', 'Z4 M', '42c', 'subrbn', 'b2300', 'mountnr', 'Coupe',\n",
       "       'uplandr', 'Ram Van', 'Tempo', 'Tracer', 'CV Tradesman', 'DB9',\n",
       "       'C/K 2500 Series', 'i8', 'Rapide', 'Nubira', 'Corsica',\n",
       "       'NV Passenger', 'Spyder', 'LS 600h L', '400-Class', 'H3T',\n",
       "       'LX 450', 'WRX', 'ActiveHybrid 7', 'Silverado 3500 Classic',\n",
       "       '500e', 'Continental Supersports', 'Sierra 3500', 'Mystique',\n",
       "       'F-150 SVT Lightning', '190-Class', 'MKC', 'Aspire', '940',\n",
       "       'Gallardo', 'Continental Flying Spur Speed', '3000GT', 'TT RS',\n",
       "       'B-Series', 'ActiveHybrid 5', 'Sierra 1500 Hybrid', 'ML55 AMG',\n",
       "       'S-10 Blazer', 'RS 4', 'T100', 'Continental GTC Speed', 'mdx',\n",
       "       'Transit Van', 'F-250', 'Sidekick', 'E-250', '8 Series',\n",
       "       '420-Class', 'E-350', 'Achieva', 'B-Class Electric Drive',\n",
       "       'Fleetwood', 'Paseo', 'Civic del Sol', 'Exige', 'X4', 'Spark EV',\n",
       "       'Transit Wagon', 'H1', 'SLS AMG GT', 'Flying Spur', 'Metro',\n",
       "       'Grand Cherokee SRT', 'RC F', 'Q3', '4 Series Gran Coupe',\n",
       "       'RC 350', '360', 'GLA-Class', 'TLX', '458 Italia'], dtype=object)"
      ]
     },
     "execution_count": 39,
     "metadata": {},
     "output_type": "execute_result"
    }
   ],
   "source": [
    "ds['model'].unique()"
   ]
  },
  {
   "cell_type": "code",
   "execution_count": 40,
   "id": "ff08cf20",
   "metadata": {},
   "outputs": [
    {
     "data": {
      "text/plain": [
       "array(['LX', '328i SULEV', 'T5', ..., 'pure', 'EWB', 'Power Wagon'],\n",
       "      dtype=object)"
      ]
     },
     "execution_count": 40,
     "metadata": {},
     "output_type": "execute_result"
    }
   ],
   "source": [
    "ds['trim'].unique()"
   ]
  },
  {
   "cell_type": "code",
   "execution_count": 41,
   "id": "66fd0d4b",
   "metadata": {},
   "outputs": [],
   "source": [
    "ds['trim'] = ds['trim'].str.lower()"
   ]
  },
  {
   "cell_type": "code",
   "execution_count": 42,
   "id": "964f0383",
   "metadata": {},
   "outputs": [
    {
     "data": {
      "text/plain": [
       "array(['SUV', 'Sedan', 'Convertible', 'Coupe', 'Wagon', 'Hatchback',\n",
       "       'Crew Cab', 'G Coupe', 'G Sedan', 'Elantra Coupe', 'Genesis Coupe',\n",
       "       'Minivan', 'Missing', 'Van', 'Double Cab', 'CrewMax Cab',\n",
       "       'Access Cab', 'King Cab', 'SuperCrew', 'CTS Coupe', 'Extended Cab',\n",
       "       'E-Series Van', 'SuperCab', 'Regular Cab', 'G Convertible', 'Koup',\n",
       "       'Quad Cab', 'CTS-V Coupe', 'G37 Convertible', 'Club Cab',\n",
       "       'Xtracab', 'Q60 Convertible', 'CTS Wagon', 'convertible',\n",
       "       'G37 Coupe', 'Mega Cab', 'Cab Plus 4', 'Q60 Coupe', 'Cab Plus',\n",
       "       'Beetle Convertible', 'TSX Sport Wagon', 'Promaster Cargo Van',\n",
       "       'GranTurismo Convertible', 'CTS-V Wagon', 'Ram Van', 'minivan',\n",
       "       'suv', 'Transit Van', 'van', 'regular-cab', 'g sedan', 'g coupe',\n",
       "       'hatchback', 'king cab', 'supercrew', 'g convertible', 'coupe',\n",
       "       'crew cab', 'wagon', 'double cab', 'e-series van', 'regular cab',\n",
       "       'quad cab', 'g37 convertible', 'supercab', 'extended cab',\n",
       "       'crewmax cab', 'genesis coupe', 'access cab', 'mega cab',\n",
       "       'xtracab', 'beetle convertible', 'cts coupe', 'koup', 'club cab',\n",
       "       'elantra coupe', 'q60 coupe', 'cts-v coupe', 'transit van',\n",
       "       'granturismo convertible', 'tsx sport wagon',\n",
       "       'promaster cargo van', 'q60 convertible', 'g37 coupe',\n",
       "       'cab plus 4', 'cts wagon'], dtype=object)"
      ]
     },
     "execution_count": 42,
     "metadata": {},
     "output_type": "execute_result"
    }
   ],
   "source": [
    "ds['body'].unique()"
   ]
  },
  {
   "cell_type": "code",
   "execution_count": 43,
   "id": "224477ee",
   "metadata": {},
   "outputs": [],
   "source": [
    "ds['body'] = ds['body'].str.lower()"
   ]
  },
  {
   "cell_type": "code",
   "execution_count": 44,
   "id": "91ebad4e",
   "metadata": {},
   "outputs": [
    {
     "data": {
      "text/plain": [
       "array(['suv', 'sedan', 'convertible', 'coupe', 'wagon', 'hatchback',\n",
       "       'crew cab', 'g coupe', 'g sedan', 'elantra coupe', 'genesis coupe',\n",
       "       'minivan', 'missing', 'van', 'double cab', 'crewmax cab',\n",
       "       'access cab', 'king cab', 'supercrew', 'cts coupe', 'extended cab',\n",
       "       'e-series van', 'supercab', 'regular cab', 'g convertible', 'koup',\n",
       "       'quad cab', 'cts-v coupe', 'g37 convertible', 'club cab',\n",
       "       'xtracab', 'q60 convertible', 'cts wagon', 'g37 coupe', 'mega cab',\n",
       "       'cab plus 4', 'q60 coupe', 'cab plus', 'beetle convertible',\n",
       "       'tsx sport wagon', 'promaster cargo van',\n",
       "       'granturismo convertible', 'cts-v wagon', 'ram van', 'transit van',\n",
       "       'regular-cab'], dtype=object)"
      ]
     },
     "execution_count": 44,
     "metadata": {},
     "output_type": "execute_result"
    }
   ],
   "source": [
    "ds['body'].unique()"
   ]
  },
  {
   "cell_type": "code",
   "execution_count": 45,
   "id": "d800e819",
   "metadata": {},
   "outputs": [
    {
     "data": {
      "text/plain": [
       "array(['automatic', 'manual'], dtype=object)"
      ]
     },
     "execution_count": 45,
     "metadata": {},
     "output_type": "execute_result"
    }
   ],
   "source": [
    "ds['transmission'].unique()"
   ]
  },
  {
   "cell_type": "code",
   "execution_count": 46,
   "id": "fbc2c24b",
   "metadata": {},
   "outputs": [
    {
     "data": {
      "text/plain": [
       "array(['ca', 'tx', 'pa', 'mn', 'az', 'wi', 'tn', 'md', 'fl', 'ne', 'nj',\n",
       "       'nv', 'oh', 'mi', 'ga', 'va', 'sc', 'nc', 'in', 'il', 'co', 'ut',\n",
       "       'mo', 'ny', 'ma', 'pr', 'or', 'la', 'wa', 'hi', 'qc', 'ab', 'on',\n",
       "       'ok', 'ms', 'nm', 'al', 'ns'], dtype=object)"
      ]
     },
     "execution_count": 46,
     "metadata": {},
     "output_type": "execute_result"
    }
   ],
   "source": [
    "ds['state'].unique()"
   ]
  },
  {
   "cell_type": "code",
   "execution_count": 47,
   "id": "33f16e73",
   "metadata": {},
   "outputs": [
    {
     "data": {
      "text/plain": [
       "array(['white', 'gray', 'black', 'red', 'silver', 'blue', 'brown',\n",
       "       'beige', 'purple', 'burgundy', '—', 'gold', 'yellow', 'green',\n",
       "       'charcoal', 'orange', 'off-white', 'turquoise', 'pink', 'lime'],\n",
       "      dtype=object)"
      ]
     },
     "execution_count": 47,
     "metadata": {},
     "output_type": "execute_result"
    }
   ],
   "source": [
    "ds['color'].unique()"
   ]
  },
  {
   "cell_type": "code",
   "execution_count": 48,
   "id": "e6bdd7d6",
   "metadata": {},
   "outputs": [
    {
     "data": {
      "text/plain": [
       "array(['black', 'beige', 'tan', '—', 'gray', 'brown', 'burgundy', 'white',\n",
       "       'silver', 'off-white', 'blue', 'red', 'yellow', 'green', 'purple',\n",
       "       'orange', 'gold'], dtype=object)"
      ]
     },
     "execution_count": 48,
     "metadata": {},
     "output_type": "execute_result"
    }
   ],
   "source": [
    "ds['interior'].unique()"
   ]
  },
  {
   "cell_type": "code",
   "execution_count": 49,
   "id": "c821fb6c",
   "metadata": {},
   "outputs": [
    {
     "data": {
      "text/plain": [
       "year                34\n",
       "make                67\n",
       "model              974\n",
       "trim              1902\n",
       "body                46\n",
       "transmission         2\n",
       "vin             550296\n",
       "state               38\n",
       "condition           41\n",
       "odometer        172278\n",
       "color               20\n",
       "interior            17\n",
       "seller           14264\n",
       "mmr               1101\n",
       "sellingprice      1887\n",
       "saledate          3745\n",
       "dtype: int64"
      ]
     },
     "execution_count": 49,
     "metadata": {},
     "output_type": "execute_result"
    }
   ],
   "source": [
    "ds.nunique()"
   ]
  },
  {
   "cell_type": "code",
   "execution_count": 50,
   "id": "be2eb5ed",
   "metadata": {},
   "outputs": [],
   "source": [
    "ds.drop('saledate', axis=1, inplace=True)"
   ]
  },
  {
   "cell_type": "code",
   "execution_count": 51,
   "id": "75bafd9a",
   "metadata": {},
   "outputs": [],
   "source": [
    "ds.drop('vin', axis=1, inplace=True)"
   ]
  },
  {
   "cell_type": "code",
   "execution_count": 52,
   "id": "f3f9b09d",
   "metadata": {},
   "outputs": [],
   "source": [
    "ds.drop('seller', axis=1, inplace=True)"
   ]
  },
  {
   "cell_type": "code",
   "execution_count": 53,
   "id": "91f1e035",
   "metadata": {},
   "outputs": [
    {
     "data": {
      "text/plain": [
       "year                34\n",
       "make                67\n",
       "model              974\n",
       "trim              1902\n",
       "body                46\n",
       "transmission         2\n",
       "state               38\n",
       "condition           41\n",
       "odometer        172278\n",
       "color               20\n",
       "interior            17\n",
       "mmr               1101\n",
       "sellingprice      1887\n",
       "dtype: int64"
      ]
     },
     "execution_count": 53,
     "metadata": {},
     "output_type": "execute_result"
    }
   ],
   "source": [
    "ds.nunique()"
   ]
  },
  {
   "cell_type": "code",
   "execution_count": 54,
   "id": "7abef27b",
   "metadata": {},
   "outputs": [],
   "source": [
    "le = LabelEncoder()\n",
    "\n",
    "ds[\"transmission\"] = le.fit_transform(ds[\"transmission\"])"
   ]
  },
  {
   "cell_type": "code",
   "execution_count": 70,
   "id": "2ed03df6",
   "metadata": {},
   "outputs": [],
   "source": [
    "looe = ce.LeaveOneOutEncoder()\n",
    "\n",
    "ds[\"state\"] = looe.fit_transform(ds[\"state\"], ds[\"sellingprice\"])"
   ]
  },
  {
   "cell_type": "code",
   "execution_count": 71,
   "id": "05fc218c",
   "metadata": {},
   "outputs": [],
   "source": [
    "looe = ce.LeaveOneOutEncoder()\n",
    "\n",
    "ds[\"color\"] = looe.fit_transform(ds[\"color\"], ds[\"sellingprice\"])"
   ]
  },
  {
   "cell_type": "code",
   "execution_count": 72,
   "id": "0422128a",
   "metadata": {},
   "outputs": [],
   "source": [
    "looe = ce.LeaveOneOutEncoder()\n",
    "\n",
    "ds[\"interior\"] = looe.fit_transform(ds[\"interior\"], ds[\"sellingprice\"])"
   ]
  },
  {
   "cell_type": "code",
   "execution_count": 57,
   "id": "986a11a5",
   "metadata": {},
   "outputs": [],
   "source": [
    "looe = ce.LeaveOneOutEncoder()\n",
    "columns=[\"make\", \"model\", \"trim\", \"body\"]\n",
    "\n",
    "for column in columns:\n",
    "    ds[column] = looe.fit_transform(ds[column], ds[\"sellingprice\"])"
   ]
  },
  {
   "cell_type": "code",
   "execution_count": 58,
   "id": "b35b8815",
   "metadata": {},
   "outputs": [
    {
     "data": {
      "text/html": [
       "<div>\n",
       "<style scoped>\n",
       "    .dataframe tbody tr th:only-of-type {\n",
       "        vertical-align: middle;\n",
       "    }\n",
       "\n",
       "    .dataframe tbody tr th {\n",
       "        vertical-align: top;\n",
       "    }\n",
       "\n",
       "    .dataframe thead th {\n",
       "        text-align: right;\n",
       "    }\n",
       "</style>\n",
       "<table border=\"1\" class=\"dataframe\">\n",
       "  <thead>\n",
       "    <tr style=\"text-align: right;\">\n",
       "      <th></th>\n",
       "      <th>year</th>\n",
       "      <th>make</th>\n",
       "      <th>model</th>\n",
       "      <th>trim</th>\n",
       "      <th>body</th>\n",
       "      <th>transmission</th>\n",
       "      <th>state</th>\n",
       "      <th>condition</th>\n",
       "      <th>odometer</th>\n",
       "      <th>color</th>\n",
       "      <th>interior</th>\n",
       "      <th>mmr</th>\n",
       "      <th>sellingprice</th>\n",
       "    </tr>\n",
       "  </thead>\n",
       "  <tbody>\n",
       "    <tr>\n",
       "      <th>0</th>\n",
       "      <td>2015</td>\n",
       "      <td>11804.847813</td>\n",
       "      <td>14641.245377</td>\n",
       "      <td>10277.918579</td>\n",
       "      <td>16115.879250</td>\n",
       "      <td>0</td>\n",
       "      <td>ca</td>\n",
       "      <td>5.0</td>\n",
       "      <td>16639.0</td>\n",
       "      <td>white</td>\n",
       "      <td>black</td>\n",
       "      <td>20500</td>\n",
       "      <td>21500</td>\n",
       "    </tr>\n",
       "    <tr>\n",
       "      <th>1</th>\n",
       "      <td>2015</td>\n",
       "      <td>11804.847813</td>\n",
       "      <td>14641.245377</td>\n",
       "      <td>10277.918579</td>\n",
       "      <td>16115.879250</td>\n",
       "      <td>0</td>\n",
       "      <td>ca</td>\n",
       "      <td>5.0</td>\n",
       "      <td>9393.0</td>\n",
       "      <td>white</td>\n",
       "      <td>beige</td>\n",
       "      <td>20800</td>\n",
       "      <td>21500</td>\n",
       "    </tr>\n",
       "    <tr>\n",
       "      <th>2</th>\n",
       "      <td>2014</td>\n",
       "      <td>21473.620287</td>\n",
       "      <td>16808.025113</td>\n",
       "      <td>29524.137931</td>\n",
       "      <td>11716.393106</td>\n",
       "      <td>0</td>\n",
       "      <td>ca</td>\n",
       "      <td>4.5</td>\n",
       "      <td>1331.0</td>\n",
       "      <td>gray</td>\n",
       "      <td>black</td>\n",
       "      <td>31900</td>\n",
       "      <td>30000</td>\n",
       "    </tr>\n",
       "    <tr>\n",
       "      <th>3</th>\n",
       "      <td>2015</td>\n",
       "      <td>11459.651967</td>\n",
       "      <td>13754.448785</td>\n",
       "      <td>16336.082115</td>\n",
       "      <td>11716.402429</td>\n",
       "      <td>0</td>\n",
       "      <td>ca</td>\n",
       "      <td>4.1</td>\n",
       "      <td>14282.0</td>\n",
       "      <td>white</td>\n",
       "      <td>black</td>\n",
       "      <td>27500</td>\n",
       "      <td>27750</td>\n",
       "    </tr>\n",
       "    <tr>\n",
       "      <th>4</th>\n",
       "      <td>2014</td>\n",
       "      <td>21471.840756</td>\n",
       "      <td>56518.610619</td>\n",
       "      <td>36111.473913</td>\n",
       "      <td>11716.239797</td>\n",
       "      <td>0</td>\n",
       "      <td>ca</td>\n",
       "      <td>4.3</td>\n",
       "      <td>2641.0</td>\n",
       "      <td>gray</td>\n",
       "      <td>black</td>\n",
       "      <td>66000</td>\n",
       "      <td>67000</td>\n",
       "    </tr>\n",
       "    <tr>\n",
       "      <th>5</th>\n",
       "      <td>2015</td>\n",
       "      <td>11731.577773</td>\n",
       "      <td>11421.082696</td>\n",
       "      <td>11482.439390</td>\n",
       "      <td>11716.472247</td>\n",
       "      <td>0</td>\n",
       "      <td>ca</td>\n",
       "      <td>1.0</td>\n",
       "      <td>5554.0</td>\n",
       "      <td>gray</td>\n",
       "      <td>black</td>\n",
       "      <td>15350</td>\n",
       "      <td>10900</td>\n",
       "    </tr>\n",
       "    <tr>\n",
       "      <th>6</th>\n",
       "      <td>2014</td>\n",
       "      <td>21471.936947</td>\n",
       "      <td>41679.301887</td>\n",
       "      <td>13864.858043</td>\n",
       "      <td>11716.248084</td>\n",
       "      <td>0</td>\n",
       "      <td>ca</td>\n",
       "      <td>3.4</td>\n",
       "      <td>14943.0</td>\n",
       "      <td>black</td>\n",
       "      <td>black</td>\n",
       "      <td>69000</td>\n",
       "      <td>65000</td>\n",
       "    </tr>\n",
       "    <tr>\n",
       "      <th>7</th>\n",
       "      <td>2014</td>\n",
       "      <td>11939.394398</td>\n",
       "      <td>11136.586419</td>\n",
       "      <td>10630.003787</td>\n",
       "      <td>11716.476805</td>\n",
       "      <td>0</td>\n",
       "      <td>ca</td>\n",
       "      <td>2.0</td>\n",
       "      <td>28617.0</td>\n",
       "      <td>black</td>\n",
       "      <td>black</td>\n",
       "      <td>11900</td>\n",
       "      <td>9800</td>\n",
       "    </tr>\n",
       "    <tr>\n",
       "      <th>8</th>\n",
       "      <td>2014</td>\n",
       "      <td>19908.734683</td>\n",
       "      <td>12458.672566</td>\n",
       "      <td>31440.065147</td>\n",
       "      <td>11716.383783</td>\n",
       "      <td>0</td>\n",
       "      <td>ca</td>\n",
       "      <td>4.2</td>\n",
       "      <td>9557.0</td>\n",
       "      <td>white</td>\n",
       "      <td>black</td>\n",
       "      <td>32100</td>\n",
       "      <td>32250</td>\n",
       "    </tr>\n",
       "    <tr>\n",
       "      <th>9</th>\n",
       "      <td>2014</td>\n",
       "      <td>11939.267306</td>\n",
       "      <td>19335.046178</td>\n",
       "      <td>13752.916917</td>\n",
       "      <td>17840.496516</td>\n",
       "      <td>0</td>\n",
       "      <td>ca</td>\n",
       "      <td>3.0</td>\n",
       "      <td>4809.0</td>\n",
       "      <td>red</td>\n",
       "      <td>black</td>\n",
       "      <td>26300</td>\n",
       "      <td>17500</td>\n",
       "    </tr>\n",
       "  </tbody>\n",
       "</table>\n",
       "</div>"
      ],
      "text/plain": [
       "   year          make         model          trim          body  transmission  \\\n",
       "0  2015  11804.847813  14641.245377  10277.918579  16115.879250             0   \n",
       "1  2015  11804.847813  14641.245377  10277.918579  16115.879250             0   \n",
       "2  2014  21473.620287  16808.025113  29524.137931  11716.393106             0   \n",
       "3  2015  11459.651967  13754.448785  16336.082115  11716.402429             0   \n",
       "4  2014  21471.840756  56518.610619  36111.473913  11716.239797             0   \n",
       "5  2015  11731.577773  11421.082696  11482.439390  11716.472247             0   \n",
       "6  2014  21471.936947  41679.301887  13864.858043  11716.248084             0   \n",
       "7  2014  11939.394398  11136.586419  10630.003787  11716.476805             0   \n",
       "8  2014  19908.734683  12458.672566  31440.065147  11716.383783             0   \n",
       "9  2014  11939.267306  19335.046178  13752.916917  17840.496516             0   \n",
       "\n",
       "  state  condition  odometer  color interior    mmr  sellingprice  \n",
       "0    ca        5.0   16639.0  white    black  20500         21500  \n",
       "1    ca        5.0    9393.0  white    beige  20800         21500  \n",
       "2    ca        4.5    1331.0   gray    black  31900         30000  \n",
       "3    ca        4.1   14282.0  white    black  27500         27750  \n",
       "4    ca        4.3    2641.0   gray    black  66000         67000  \n",
       "5    ca        1.0    5554.0   gray    black  15350         10900  \n",
       "6    ca        3.4   14943.0  black    black  69000         65000  \n",
       "7    ca        2.0   28617.0  black    black  11900          9800  \n",
       "8    ca        4.2    9557.0  white    black  32100         32250  \n",
       "9    ca        3.0    4809.0    red    black  26300         17500  "
      ]
     },
     "execution_count": 58,
     "metadata": {},
     "output_type": "execute_result"
    }
   ],
   "source": [
    "ds.head(10)"
   ]
  },
  {
   "cell_type": "code",
   "execution_count": 63,
   "id": "3e38f18d",
   "metadata": {},
   "outputs": [],
   "source": [
    "CE = ce.CountEncoder()\n",
    "columns=[\"state\", \"color\", \"interior\"]\n",
    "\n",
    "for column in columns:\n",
    "    ds[column] = CE.fit_transform(ds[column], ds[\"sellingprice\"])"
   ]
  },
  {
   "cell_type": "code",
   "execution_count": 64,
   "id": "4c923a6b",
   "metadata": {},
   "outputs": [
    {
     "data": {
      "text/html": [
       "<div>\n",
       "<style scoped>\n",
       "    .dataframe tbody tr th:only-of-type {\n",
       "        vertical-align: middle;\n",
       "    }\n",
       "\n",
       "    .dataframe tbody tr th {\n",
       "        vertical-align: top;\n",
       "    }\n",
       "\n",
       "    .dataframe thead th {\n",
       "        text-align: right;\n",
       "    }\n",
       "</style>\n",
       "<table border=\"1\" class=\"dataframe\">\n",
       "  <thead>\n",
       "    <tr style=\"text-align: right;\">\n",
       "      <th></th>\n",
       "      <th>year</th>\n",
       "      <th>make</th>\n",
       "      <th>model</th>\n",
       "      <th>trim</th>\n",
       "      <th>body</th>\n",
       "      <th>transmission</th>\n",
       "      <th>state</th>\n",
       "      <th>condition</th>\n",
       "      <th>odometer</th>\n",
       "      <th>color</th>\n",
       "      <th>interior</th>\n",
       "      <th>mmr</th>\n",
       "      <th>sellingprice</th>\n",
       "    </tr>\n",
       "  </thead>\n",
       "  <tbody>\n",
       "    <tr>\n",
       "      <th>0</th>\n",
       "      <td>2015</td>\n",
       "      <td>11804.847813</td>\n",
       "      <td>14641.245377</td>\n",
       "      <td>10277.918579</td>\n",
       "      <td>16115.879250</td>\n",
       "      <td>0</td>\n",
       "      <td>73148</td>\n",
       "      <td>5.0</td>\n",
       "      <td>16639.0</td>\n",
       "      <td>106673</td>\n",
       "      <td>245074</td>\n",
       "      <td>20500</td>\n",
       "      <td>21500</td>\n",
       "    </tr>\n",
       "    <tr>\n",
       "      <th>1</th>\n",
       "      <td>2015</td>\n",
       "      <td>11804.847813</td>\n",
       "      <td>14641.245377</td>\n",
       "      <td>10277.918579</td>\n",
       "      <td>16115.879250</td>\n",
       "      <td>0</td>\n",
       "      <td>73148</td>\n",
       "      <td>5.0</td>\n",
       "      <td>9393.0</td>\n",
       "      <td>106673</td>\n",
       "      <td>59758</td>\n",
       "      <td>20800</td>\n",
       "      <td>21500</td>\n",
       "    </tr>\n",
       "    <tr>\n",
       "      <th>2</th>\n",
       "      <td>2014</td>\n",
       "      <td>21473.620287</td>\n",
       "      <td>16808.025113</td>\n",
       "      <td>29524.137931</td>\n",
       "      <td>11716.393106</td>\n",
       "      <td>0</td>\n",
       "      <td>73148</td>\n",
       "      <td>4.5</td>\n",
       "      <td>1331.0</td>\n",
       "      <td>82857</td>\n",
       "      <td>245074</td>\n",
       "      <td>31900</td>\n",
       "      <td>30000</td>\n",
       "    </tr>\n",
       "    <tr>\n",
       "      <th>3</th>\n",
       "      <td>2015</td>\n",
       "      <td>11459.651967</td>\n",
       "      <td>13754.448785</td>\n",
       "      <td>16336.082115</td>\n",
       "      <td>11716.402429</td>\n",
       "      <td>0</td>\n",
       "      <td>73148</td>\n",
       "      <td>4.1</td>\n",
       "      <td>14282.0</td>\n",
       "      <td>106673</td>\n",
       "      <td>245074</td>\n",
       "      <td>27500</td>\n",
       "      <td>27750</td>\n",
       "    </tr>\n",
       "    <tr>\n",
       "      <th>4</th>\n",
       "      <td>2014</td>\n",
       "      <td>21471.840756</td>\n",
       "      <td>56518.610619</td>\n",
       "      <td>36111.473913</td>\n",
       "      <td>11716.239797</td>\n",
       "      <td>0</td>\n",
       "      <td>73148</td>\n",
       "      <td>4.3</td>\n",
       "      <td>2641.0</td>\n",
       "      <td>82857</td>\n",
       "      <td>245074</td>\n",
       "      <td>66000</td>\n",
       "      <td>67000</td>\n",
       "    </tr>\n",
       "    <tr>\n",
       "      <th>5</th>\n",
       "      <td>2015</td>\n",
       "      <td>11731.577773</td>\n",
       "      <td>11421.082696</td>\n",
       "      <td>11482.439390</td>\n",
       "      <td>11716.472247</td>\n",
       "      <td>0</td>\n",
       "      <td>73148</td>\n",
       "      <td>1.0</td>\n",
       "      <td>5554.0</td>\n",
       "      <td>82857</td>\n",
       "      <td>245074</td>\n",
       "      <td>15350</td>\n",
       "      <td>10900</td>\n",
       "    </tr>\n",
       "    <tr>\n",
       "      <th>6</th>\n",
       "      <td>2014</td>\n",
       "      <td>21471.936947</td>\n",
       "      <td>41679.301887</td>\n",
       "      <td>13864.858043</td>\n",
       "      <td>11716.248084</td>\n",
       "      <td>0</td>\n",
       "      <td>73148</td>\n",
       "      <td>3.4</td>\n",
       "      <td>14943.0</td>\n",
       "      <td>111719</td>\n",
       "      <td>245074</td>\n",
       "      <td>69000</td>\n",
       "      <td>65000</td>\n",
       "    </tr>\n",
       "    <tr>\n",
       "      <th>7</th>\n",
       "      <td>2014</td>\n",
       "      <td>11939.394398</td>\n",
       "      <td>11136.586419</td>\n",
       "      <td>10630.003787</td>\n",
       "      <td>11716.476805</td>\n",
       "      <td>0</td>\n",
       "      <td>73148</td>\n",
       "      <td>2.0</td>\n",
       "      <td>28617.0</td>\n",
       "      <td>111719</td>\n",
       "      <td>245074</td>\n",
       "      <td>11900</td>\n",
       "      <td>9800</td>\n",
       "    </tr>\n",
       "    <tr>\n",
       "      <th>8</th>\n",
       "      <td>2014</td>\n",
       "      <td>19908.734683</td>\n",
       "      <td>12458.672566</td>\n",
       "      <td>31440.065147</td>\n",
       "      <td>11716.383783</td>\n",
       "      <td>0</td>\n",
       "      <td>73148</td>\n",
       "      <td>4.2</td>\n",
       "      <td>9557.0</td>\n",
       "      <td>106673</td>\n",
       "      <td>245074</td>\n",
       "      <td>32100</td>\n",
       "      <td>32250</td>\n",
       "    </tr>\n",
       "    <tr>\n",
       "      <th>9</th>\n",
       "      <td>2014</td>\n",
       "      <td>11939.267306</td>\n",
       "      <td>19335.046178</td>\n",
       "      <td>13752.916917</td>\n",
       "      <td>17840.496516</td>\n",
       "      <td>0</td>\n",
       "      <td>73148</td>\n",
       "      <td>3.0</td>\n",
       "      <td>4809.0</td>\n",
       "      <td>43569</td>\n",
       "      <td>245074</td>\n",
       "      <td>26300</td>\n",
       "      <td>17500</td>\n",
       "    </tr>\n",
       "  </tbody>\n",
       "</table>\n",
       "</div>"
      ],
      "text/plain": [
       "   year          make         model          trim          body  transmission  \\\n",
       "0  2015  11804.847813  14641.245377  10277.918579  16115.879250             0   \n",
       "1  2015  11804.847813  14641.245377  10277.918579  16115.879250             0   \n",
       "2  2014  21473.620287  16808.025113  29524.137931  11716.393106             0   \n",
       "3  2015  11459.651967  13754.448785  16336.082115  11716.402429             0   \n",
       "4  2014  21471.840756  56518.610619  36111.473913  11716.239797             0   \n",
       "5  2015  11731.577773  11421.082696  11482.439390  11716.472247             0   \n",
       "6  2014  21471.936947  41679.301887  13864.858043  11716.248084             0   \n",
       "7  2014  11939.394398  11136.586419  10630.003787  11716.476805             0   \n",
       "8  2014  19908.734683  12458.672566  31440.065147  11716.383783             0   \n",
       "9  2014  11939.267306  19335.046178  13752.916917  17840.496516             0   \n",
       "\n",
       "   state  condition  odometer   color  interior    mmr  sellingprice  \n",
       "0  73148        5.0   16639.0  106673    245074  20500         21500  \n",
       "1  73148        5.0    9393.0  106673     59758  20800         21500  \n",
       "2  73148        4.5    1331.0   82857    245074  31900         30000  \n",
       "3  73148        4.1   14282.0  106673    245074  27500         27750  \n",
       "4  73148        4.3    2641.0   82857    245074  66000         67000  \n",
       "5  73148        1.0    5554.0   82857    245074  15350         10900  \n",
       "6  73148        3.4   14943.0  111719    245074  69000         65000  \n",
       "7  73148        2.0   28617.0  111719    245074  11900          9800  \n",
       "8  73148        4.2    9557.0  106673    245074  32100         32250  \n",
       "9  73148        3.0    4809.0   43569    245074  26300         17500  "
      ]
     },
     "execution_count": 64,
     "metadata": {},
     "output_type": "execute_result"
    }
   ],
   "source": [
    "ds.head(10)"
   ]
  },
  {
   "cell_type": "code",
   "execution_count": 65,
   "id": "20d09757",
   "metadata": {},
   "outputs": [],
   "source": [
    "ds.to_csv('../data/cleared_car_price.csv', index=False)"
   ]
  },
  {
   "cell_type": "code",
   "execution_count": null,
   "id": "a4716c7b",
   "metadata": {},
   "outputs": [],
   "source": []
  }
 ],
 "metadata": {
  "kernelspec": {
   "display_name": "Python 3 (ipykernel)",
   "language": "python",
   "name": "python3"
  },
  "language_info": {
   "codemirror_mode": {
    "name": "ipython",
    "version": 3
   },
   "file_extension": ".py",
   "mimetype": "text/x-python",
   "name": "python",
   "nbconvert_exporter": "python",
   "pygments_lexer": "ipython3",
   "version": "3.10.2"
  }
 },
 "nbformat": 4,
 "nbformat_minor": 5
}
